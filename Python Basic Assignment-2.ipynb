{
 "cells": [
  {
   "cell_type": "markdown",
   "id": "7d1e7f9f",
   "metadata": {},
   "source": [
    "Q1.What are the two values of the Boolean data type? How do you write them?\n",
    "\n",
    "Ans. The two different boolean data typed are:-\n",
    "     1. True\n",
    "     2. False\n",
    "     They are also writtten as 1 for True and 0 for False."
   ]
  },
  {
   "cell_type": "markdown",
   "id": "d12d64b2",
   "metadata": {},
   "source": [
    "Q2. What are the three different types of Boolean operators?\n",
    "Ans. The different types of data types are:-\n",
    "     1. AND 2. OR 3. NOT"
   ]
  },
  {
   "cell_type": "raw",
   "id": "f1ccc5d8",
   "metadata": {},
   "source": []
  },
  {
   "cell_type": "markdown",
   "id": "0c3c7930",
   "metadata": {},
   "source": [
    "Q3. Make a list of each Boolean operator's truth tables (i.e. every possible combination of Boolean values for the operator and what it evaluate ).\n",
    "\n",
    "Ans. 1.AND Operator tale:- True AND False = False\n",
    "                           False AND True = False\n",
    "                           True AND True = True\n",
    "                           False AND False =False\n",
    "                           \n",
    "     2.OR Operator tale:- True OR False = True\n",
    "                           False OR True = True\n",
    "                           True OR True=True\n",
    "                           False OR False = False\n",
    "                           \n",
    "     3.NOT Operator:- If NOT False then True\n",
    "                      If NOT True  then False\n",
    "            "
   ]
  },
  {
   "cell_type": "markdown",
   "id": "4a149cc6",
   "metadata": {},
   "source": [
    "Q4. What are the values of the following expressions?\n",
    "\n",
    "Ans. 1. (5 > 4) and (3 == 5) = False\n",
    "     2. not (5 > 4) = False\n",
    "     3. (5 > 4) or (3 == 5) = True\n",
    "     4. not ((5 > 4) or (3 == 5)) = False\n",
    "     5.(True and True) and (True == False) = False\n",
    "     6.(not False) or (not True) = True\n"
   ]
  },
  {
   "cell_type": "markdown",
   "id": "cf748e0e",
   "metadata": {},
   "source": [
    "Q5. What are the six comparison operators?\n",
    "\n",
    "Ans. Following are the six comparison operators:-\n",
    "     1. =\n",
    "     2. <\n",
    "     3. >\n",
    "     4. <=\n",
    "     5. >=\n",
    "     6. !="
   ]
  },
  {
   "cell_type": "markdown",
   "id": "c16b613d",
   "metadata": {},
   "source": [
    "Q6. How do you tell the difference between the equal to and assignment operators?Describe a condition and when you would use one.\n",
    "\n",
    "Ans. Symbol of Equal operator is (==) and equal to operators are used to compare two variables and it gives answer in True or False. \n",
    "Eg:- a=5\n",
    "     b=7\n",
    "     a==b\n",
    "\n",
    "While assignment operators are denoted by (=) and it used  to assign vales to a variable. Eg. a=7\n",
    "                                   print(a)"
   ]
  },
  {
   "cell_type": "markdown",
   "id": "366678fe",
   "metadata": {},
   "source": [
    "Q7. Identify the three blocks in this code:\n",
    "\n",
    "spam = 0\n",
    "if spam == 10:\n",
    "print('eggs')\n",
    "if spam > 5:\n",
    "print('bacon')\n",
    "else:\n",
    "print('ham')\n",
    "print('spam')\n",
    "print('spam')\n"
   ]
  },
  {
   "cell_type": "code",
   "execution_count": 3,
   "id": "e2a98c18",
   "metadata": {},
   "outputs": [
    {
     "name": "stdout",
     "output_type": "stream",
     "text": [
      "ham\n",
      "spam\n",
      "spam\n"
     ]
    }
   ],
   "source": [
    "spam = 0\n",
    "if spam == 10:\n",
    "    print('eggs')\n",
    "if spam > 5:\n",
    "    print('bacon')\n",
    "else:\n",
    "    print('ham')\n",
    "    print('spam')\n",
    "    print('spam')\n"
   ]
  },
  {
   "cell_type": "markdown",
   "id": "24e753f2",
   "metadata": {},
   "source": [
    "Q8. Write code that prints Hello if 1 is stored in spam, prints Howdy if 2 is stored in spam, and prints Greetings! if anything else is stored in spam."
   ]
  },
  {
   "cell_type": "code",
   "execution_count": 7,
   "id": "29b38af1",
   "metadata": {},
   "outputs": [
    {
     "name": "stdout",
     "output_type": "stream",
     "text": [
      "3\n",
      "Greetings\n"
     ]
    }
   ],
   "source": [
    "#Ans \n",
    "spam = int(input())\n",
    "if spam == 1:\n",
    "    print('Hello')\n",
    "elif spam == 2:\n",
    "    print('Howdy')\n",
    "else:\n",
    "    print('Greetings')"
   ]
  },
  {
   "cell_type": "markdown",
   "id": "77c6736c",
   "metadata": {},
   "source": [
    "Q9.If your programme is stuck in an endless loop, what keys you’ll press?\n",
    "\n",
    "Ans. We will press (ctrl-c)"
   ]
  },
  {
   "cell_type": "markdown",
   "id": "2da6031c",
   "metadata": {},
   "source": [
    "Q10. How can you tell the difference between break and continue?\n",
    "\n",
    "Ans. Break statement stops the loop in which the statement is placed. While in continue statement will terminate only the current iteration of loop."
   ]
  },
  {
   "cell_type": "markdown",
   "id": "bfffb523",
   "metadata": {},
   "source": [
    "Q11. In a for loop, what is the difference between range(10), range(0, 10), and range(0, 10, 1)?\n",
    "\n",
    "Ans. There is no difference between the all the three ranges. Each one will give you same output.\n"
   ]
  },
  {
   "cell_type": "markdown",
   "id": "d36d3989",
   "metadata": {},
   "source": [
    "Q12. Write a short program that prints the numbers 1 to 10 using a for loop. Then write an equivalent program that prints the numbers 1 to 10 using a while loop."
   ]
  },
  {
   "cell_type": "code",
   "execution_count": 11,
   "id": "aa2f0997",
   "metadata": {},
   "outputs": [
    {
     "name": "stdout",
     "output_type": "stream",
     "text": [
      "0\n",
      "1\n",
      "2\n",
      "3\n",
      "4\n",
      "5\n",
      "6\n",
      "7\n",
      "8\n",
      "9\n",
      "10\n",
      "1\n",
      "2\n",
      "3\n",
      "4\n",
      "5\n",
      "6\n",
      "7\n",
      "8\n",
      "9\n",
      "10\n"
     ]
    }
   ],
   "source": [
    "# Using for loop.\n",
    "for i in range(0,11,1):\n",
    "    print(i)\n",
    "    \n",
    "# Using while loop.\n",
    "i=1\n",
    "while (i<=10):\n",
    "    print(i)\n",
    "    i=i+1"
   ]
  },
  {
   "cell_type": "markdown",
   "id": "5d0fb73a",
   "metadata": {},
   "source": [
    "Q13. If you had a function named bacon() inside a module named spam, how would you call it after importing spam?"
   ]
  },
  {
   "cell_type": "code",
   "execution_count": null,
   "id": "4c5c5eba",
   "metadata": {},
   "outputs": [],
   "source": [
    "# from spam import bacon"
   ]
  }
 ],
 "metadata": {
  "kernelspec": {
   "display_name": "Python 3",
   "language": "python",
   "name": "python3"
  },
  "language_info": {
   "codemirror_mode": {
    "name": "ipython",
    "version": 3
   },
   "file_extension": ".py",
   "mimetype": "text/x-python",
   "name": "python",
   "nbconvert_exporter": "python",
   "pygments_lexer": "ipython3",
   "version": "3.8.8"
  }
 },
 "nbformat": 4,
 "nbformat_minor": 5
}

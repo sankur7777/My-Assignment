{
 "cells": [
  {
   "cell_type": "markdown",
   "id": "ce4be596",
   "metadata": {},
   "source": [
    "Q1. What is the name of the feature responsible for generating Regex objects?\n",
    "\n",
    "Ans. The re.compile() function returns Regex objects."
   ]
  },
  {
   "cell_type": "markdown",
   "id": "37294438",
   "metadata": {},
   "source": [
    "Q2. Why do raw strings often appear in Regex objects?\n",
    "\n",
    "Ans. Raw strings are used so that backslashes do not have to be escaped."
   ]
  },
  {
   "cell_type": "markdown",
   "id": "492877e5",
   "metadata": {},
   "source": [
    "Q3. What is the return value of the search() method?\n",
    "\n",
    "Ans. The search() function takes two parameters and returns a match object if there is a match. If there is more than            one match, only the first occurrence of the match will be returned. If no matches are found, the value None is              returned.\n"
   ]
  },
  {
   "cell_type": "markdown",
   "id": "344a1d04",
   "metadata": {},
   "source": [
    "Q4. From a Match item, how do you get the actual strings that match the pattern?\n",
    "\n",
    "Ans. The group() method returns strings of the matched text."
   ]
  },
  {
   "cell_type": "markdown",
   "id": "906ff7f4",
   "metadata": {},
   "source": [
    "Q5. In the regex which created from the r'(\\d\\d\\d)-(\\d\\d\\d-\\d\\d\\d\\d)', what does group zero cover? Group 2? Group 1?\n",
    "\n",
    "Ans. Group 0 is the entire match, group 1 covers the first set of parentheses, and group 2 covers the second set of              parentheses."
   ]
  },
  {
   "cell_type": "markdown",
   "id": "b69bebc3",
   "metadata": {},
   "source": [
    "Q6. In standard expression syntax, parentheses and intervals have distinct meanings. How can you tell a regex that you want     it to fit real parentheses and periods?\n",
    "\n",
    "Ans. Periods and parentheses can be escaped with a backslash: \\., \\(, and \\)."
   ]
  },
  {
   "cell_type": "markdown",
   "id": "1ea3d662",
   "metadata": {},
   "source": [
    "Q7. The findall() method returns a string list or a list of string tuples. What causes it to return one of the two options?\n",
    "\n",
    "Ans. If the regex has no groups, a list of strings is returned. If the regex has groups, a list of tuples of strings is          returned."
   ]
  },
  {
   "cell_type": "markdown",
   "id": "fdb5efc0",
   "metadata": {},
   "source": [
    "Q8. In standard expressions, what does the | character mean?\n",
    "\n",
    "Ans. A|B, where A and B can be arbitrary REs, creates a regular expression that will match either A or B. An arbitrary          number of REs can be separated by the '|' in this way."
   ]
  },
  {
   "cell_type": "markdown",
   "id": "4b21427b",
   "metadata": {},
   "source": [
    "Q9. In regular expressions, what does the character stand for?\n",
    "\n",
    "Ans. All characters, except those having special meaning in regex, matches themselves. E.g., the regex x matches substring      \"x\" ; regex 9 matches \"9\" ; regex = matches \"=\" ; and regex @ matches \"@\" ."
   ]
  },
  {
   "cell_type": "markdown",
   "id": "70aed021",
   "metadata": {},
   "source": [
    "Q10.In regular expressions, what is the difference between the + and * characters?\n",
    "\n",
    "Ans. Each of them are quantifiers, the star quantifier(*) means that the preceding expression can match zero or more times      it is like {0,} while the plus quantifier(+) indicate that the preceding expression MUST match at least one time or         multiple times and it is the same as {1,}"
   ]
  },
  {
   "cell_type": "markdown",
   "id": "d241e187",
   "metadata": {},
   "source": [
    "Q11. What is the difference between {4} and {4,5} in regular expression?\n",
    "\n",
    "Ans. {4} means that its preceeding group should repeat 4 times. where as {4,5} means that its preceeding group should repeat mininum 4 times and maximum 5 times inclusively"
   ]
  },
  {
   "cell_type": "markdown",
   "id": "a1a8508b",
   "metadata": {},
   "source": [
    "Q12. What do you mean by the \\d, \\w, and \\s shorthand character classes signify in regular expressions?\n",
    "\n",
    "Ans. The \\d, \\w, and \\s shorthand character classes match a single digit, word, or space character, respectively."
   ]
  },
  {
   "cell_type": "markdown",
   "id": "7ed2bbeb",
   "metadata": {},
   "source": [
    "Q13. What do means by \\D, \\W, and \\S shorthand character classes signify in regular expressions?\n",
    "\n",
    "Ans. The \\D, \\W, and \\S shorthand character classes match a single character that is not a digit, word, or space character,      respectively."
   ]
  },
  {
   "cell_type": "markdown",
   "id": "43ef9bc0",
   "metadata": {},
   "source": [
    "Q14. What is the difference between .*? and .*?\n",
    "\n",
    "Ans. * is a greedy match - in other words, match zero to many times, as many times as possible. *? is a minimal match - in other words, match zero to many times, as few times as possible for the rest of the pattern to make sense."
   ]
  },
  {
   "cell_type": "markdown",
   "id": "dea1cc50",
   "metadata": {},
   "source": [
    "Q15. What is the syntax for matching both numbers and lowercase letters with a character class?\n",
    "\n",
    "Ans. o match a literal '|' , use \\| , or enclose it inside a character class, as in [|] . ... expressions like [A-Z] will also match lowercase letters."
   ]
  },
  {
   "cell_type": "markdown",
   "id": "04f191fe",
   "metadata": {},
   "source": [
    "Q16 What is the procedure for making a normal expression in regax case insensitive?\n",
    "\n",
    "Ans. We can pass re.IGNORECASE as a flag to make a noraml expression case insensitive\n"
   ]
  },
  {
   "cell_type": "markdown",
   "id": "3d31fe82",
   "metadata": {},
   "source": [
    "Q17. What does the . character normally match? What does it match if re.DOTALL is passed as 2nd argument in re.compile()?\n",
    "\n",
    "Ans. Dot . character matches everything in input except newline character .. By passing re.DOTALL as a flag to re.compile(), you can make the dot character match all characters, including the newline character."
   ]
  },
  {
   "cell_type": "markdown",
   "id": "2f592e6d",
   "metadata": {},
   "source": [
    "Q18. If numReg = re.compile(r'\\d+'), what will numRegex.sub('X', '11 drummers, 10 pipers, five rings, 4 hen') return?\n",
    "\n",
    "Ans. The Ouput will be 'X drummers, X pipers, five rings, X hen"
   ]
  },
  {
   "cell_type": "markdown",
   "id": "5d145c2c",
   "metadata": {},
   "source": [
    "Q19. What does passing re.VERBOSE as the 2nd argument to re.compile() allow to do?\n",
    "\n",
    "Ans. re.VERBOSE will allow to add whitespace and comments to string passed to re.compile()."
   ]
  },
  {
   "cell_type": "markdown",
   "id": "b605c163",
   "metadata": {},
   "source": [
    "Q20. How would you write a regex that match a number with comma for every three digits? It must match the given following:\n",
    "     '42','1,234', '6,368,745'but not the following: '12,34,567' (which has only two digits between the commas) '1234' (which lacks commas)\n",
    "\n",
    "\n",
    "\n",
    "\n",
    "Ans. import re\n",
    "     pattern = r'^\\d{1,3}(,\\d{3})*$'\n",
    "     pagex = re.compile(pattern)\n",
    "     for ele in ['42','1,234', '6,368,745','12,34,567','1234']:\n",
    "         print('Output:',ele, '->', pagex.search(ele))"
   ]
  },
  {
   "cell_type": "markdown",
   "id": "23253f6b",
   "metadata": {},
   "source": [
    "Q21. How would you write a regex that matches the full name of someone whose last name is Watanabe? You can assume that the first name that comes before it will always be one word that begins with a capital letter. The regex must match the following:\n",
    "'Haruto Watanabe'\n",
    "'Alice Watanabe'\n",
    "'RoboCop Watanabe'\n",
    "but not the following:\n",
    "'haruto Watanabe' (where the first name is not capitalized)\n",
    "'Mr. Watanabe' (where the preceding word has a nonletter character)\n",
    "'Watanabe' (which has no first name)\n",
    "'Haruto watanabe' (where Watanabe is not capitalized)\n"
   ]
  },
  {
   "cell_type": "code",
   "execution_count": 3,
   "id": "607af0c9",
   "metadata": {},
   "outputs": [
    {
     "name": "stdout",
     "output_type": "stream",
     "text": [
      "Output:  Haruto Watanabe -> <re.Match object; span=(0, 15), match='Haruto Watanabe'>\n",
      "Output:  Alice Watanabe -> <re.Match object; span=(0, 14), match='Alice Watanabe'>\n",
      "Output:  RoboCop Watanabe -> <re.Match object; span=(4, 16), match='Cop Watanabe'>\n",
      "Output:  haruto Watanabe -> None\n",
      "Output:  Mr. Watanabe -> None\n",
      "Output:  Watanabe -> None\n",
      "Output:  Haruto watanabe -> None\n"
     ]
    }
   ],
   "source": [
    "import re\n",
    "pattern = r'[A-Z]{1}[a-z]*\\sWatanabe'\n",
    "namex = re.compile(pattern)\n",
    "for name in ['Haruto Watanabe','Alice Watanabe','RoboCop Watanabe','haruto Watanabe','Mr. Watanabe','Watanabe','Haruto watanabe']:\n",
    "    print('Output: ',name,'->',namex.search(name))"
   ]
  },
  {
   "cell_type": "markdown",
   "id": "474c9c1e",
   "metadata": {},
   "source": [
    "Q22. How would you write a regex that matches a sentence where the first word is either Alice, Bob, or Carol; the second word is either eats, pets, or throws; the third word is apples, cats, or baseballs; and the sentence ends with a period? This regex should be case-insensitive. It must match the following:\n",
    "'Alice eats apples.'\n",
    "'Bob pets cats.'\n",
    "'Carol throws baseballs.'\n",
    "'Alice throws Apples.'\n",
    "'BOB EATS CATS.'\n",
    "but not the following:\n",
    "'RoboCop eats apples.'\n",
    "'ALICE THROWS FOOTBALLS.'\n",
    "'Carol eats 7 cats.'\n"
   ]
  },
  {
   "cell_type": "code",
   "execution_count": 4,
   "id": "197f3f46",
   "metadata": {},
   "outputs": [
    {
     "name": "stdout",
     "output_type": "stream",
     "text": [
      "Output:  Alice eats apples. -> <re.Match object; span=(0, 18), match='Alice eats apples.'>\n",
      "Output:  Bob pets cats. -> <re.Match object; span=(0, 14), match='Bob pets cats.'>\n",
      "Output:  Carol throws baseballs. -> <re.Match object; span=(0, 23), match='Carol throws baseballs.'>\n",
      "Output:  Alice throws Apples. -> <re.Match object; span=(0, 20), match='Alice throws Apples.'>\n",
      "Output:  BOB EATS CATS. -> <re.Match object; span=(0, 14), match='BOB EATS CATS.'>\n",
      "Output:  RoboCop eats apples. -> None\n",
      "Output:  ALICE THROWS FOOTBALLS. -> None\n",
      "Output:  Carol eats 7 cats. -> None\n"
     ]
    }
   ],
   "source": [
    "import re\n",
    "pattern = r'(Alice|Bob|Carol)\\s(eats|pets|throws)\\s(apples|cats|baseballs)\\.'\n",
    "casex = re.compile(pattern,re.IGNORECASE)\n",
    "for ele in ['Alice eats apples.','Bob pets cats.','Carol throws baseballs.','Alice throws Apples.','BOB EATS CATS.','RoboCop eats apples.'\n",
    ",'ALICE THROWS FOOTBALLS.','Carol eats 7 cats.']:\n",
    "    print('Output: ',ele,'->',casex.search(ele))"
   ]
  },
  {
   "cell_type": "code",
   "execution_count": null,
   "id": "c4eb34fc",
   "metadata": {},
   "outputs": [],
   "source": []
  }
 ],
 "metadata": {
  "kernelspec": {
   "display_name": "Python 3 (ipykernel)",
   "language": "python",
   "name": "python3"
  },
  "language_info": {
   "codemirror_mode": {
    "name": "ipython",
    "version": 3
   },
   "file_extension": ".py",
   "mimetype": "text/x-python",
   "name": "python",
   "nbconvert_exporter": "python",
   "pygments_lexer": "ipython3",
   "version": "3.9.12"
  }
 },
 "nbformat": 4,
 "nbformat_minor": 5
}

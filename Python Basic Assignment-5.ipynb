{
 "cells": [
  {
   "cell_type": "markdown",
   "id": "9bbbb4b2",
   "metadata": {},
   "source": [
    "Q1. What does an empty dictionary's code look like?\n",
    "\n",
    "Ans. empty_dict = {}"
   ]
  },
  {
   "cell_type": "markdown",
   "id": "eb0a7912",
   "metadata": {},
   "source": [
    "Q2. What is the value of a dictionary value with the key 'foo' and the value 42?\n",
    "\n",
    "Ans. value_dict = { 'foo' : 42}"
   ]
  },
  {
   "cell_type": "markdown",
   "id": "37904043",
   "metadata": {},
   "source": [
    "Q3. What is the most significant distinction between a dictionary and a list?\n",
    "\n",
    "Ans. A list refers to a collection of various index value pairs like. A dictionary refers to a hashed structure of various      pairs of keys and values. We can create a list by placing all the available elements into a [ ] and separating them        using “,” commas. While dictionary is combination of key value pair. For example:- {1 : \"Ankur\", 2 : \"Shrivastava\"}\n"
   ]
  },
  {
   "cell_type": "markdown",
   "id": "4bbc19d6",
   "metadata": {},
   "source": [
    "Q4. What happens if you try to access spam ['foo'] if spam is {'bar': 100}?\n",
    "\n",
    "Ans. This checks whether a value exists as a key in the dictionary.\n"
   ]
  },
  {
   "cell_type": "markdown",
   "id": "e005c113",
   "metadata": {},
   "source": [
    "Q5. If a dictionary is stored in spam, what is the difference between the expressions 'cat' in spam and 'cat' in spam.keys()?\n",
    "\n",
    "Ans. cat in spam.keys() will give you all the keys from the dictionary."
   ]
  },
  {
   "cell_type": "markdown",
   "id": "c77d32b8",
   "metadata": {},
   "source": [
    "Q6. If a dictionary is stored in spam, what is the difference between the expressions 'cat' in spam and 'cat' in spam.values()?\n",
    "\n",
    "Ans. cat in spam.values() will give you all the values from the dictionary.\n"
   ]
  },
  {
   "cell_type": "markdown",
   "id": "4d30def6",
   "metadata": {},
   "source": [
    "Q7. What is a shortcut for the following code?\n",
    "if 'color' not in spam:\n",
    "spam['color'] = 'black'\n",
    "\n",
    "Ans. spam['color'] = black if color != spam"
   ]
  },
  {
   "cell_type": "markdown",
   "id": "35c80a95",
   "metadata": {},
   "source": [
    "Q8. How do you \"pretty print\" dictionary values using which module and function?\n",
    "\n",
    "Ans. To print dictionary values just call the dictionary name.values.\n",
    "     For example :- dict = {}\n",
    "                    print(dict.values())"
   ]
  },
  {
   "cell_type": "code",
   "execution_count": null,
   "id": "5437eaae",
   "metadata": {},
   "outputs": [],
   "source": []
  }
 ],
 "metadata": {
  "kernelspec": {
   "display_name": "Python 3",
   "language": "python",
   "name": "python3"
  },
  "language_info": {
   "codemirror_mode": {
    "name": "ipython",
    "version": 3
   },
   "file_extension": ".py",
   "mimetype": "text/x-python",
   "name": "python",
   "nbconvert_exporter": "python",
   "pygments_lexer": "ipython3",
   "version": "3.8.8"
  }
 },
 "nbformat": 4,
 "nbformat_minor": 5
}

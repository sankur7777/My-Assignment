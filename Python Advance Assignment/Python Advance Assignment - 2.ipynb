{
 "cells": [
  {
   "cell_type": "markdown",
   "id": "a407f83a",
   "metadata": {},
   "source": [
    "Q1. What is the relationship between classes and modules?\n",
    "\n",
    "Ans: A Python class is like an outline/blueprint/mold for creating a new object. An object is anything that you wish to manipulate or change while working through the code. Every time a class object is instantiated, which is when we declare a variable, a new object is initiated from scratch\n",
    "\n",
    "Whereas in Python, Modules are simply files with the . py extension containing Python code that can be imported inside another Python Program. In simple terms, we can consider a module to be the same as a code library or a file that contains a set of functions/Classes that you want to include in your application."
   ]
  },
  {
   "cell_type": "markdown",
   "id": "2f5f544f",
   "metadata": {},
   "source": [
    "Q2. How do you make instances and classes?\n",
    "\n",
    "Ans: For creating a class instance. we call a class by its name and pass the arguments which its __init__ method accepts.\n",
    "\n",
    "   Example: vishwak = employee('Male',20000), Here vishwak is an instance of class employee with attriubutes 'Male' and        20000.\n",
    "\n",
    "   Whereas for creating a class, we use the Class keyword. Class keyword is followed by classname and semicolon.\n",
    "\n",
    "   Example: Here Employee is a class created with class keyword with arguments gender and salary."
   ]
  },
  {
   "cell_type": "markdown",
   "id": "879eece7",
   "metadata": {},
   "source": [
    "Q3. Where and how should be class attributes created?\n",
    "\n",
    "Ans.  Class attributes or Class level Attributes belong to the class itself. these attributes will be shared by all the           instances of the class. Hence these attributes are usually created/defined in the top of class definiation outside         all methods."
   ]
  },
  {
   "cell_type": "markdown",
   "id": "89ffdf97",
   "metadata": {},
   "source": [
    "Q4. Where and how are instance attributes created?\n",
    "\n",
    "Ans: Instances attributes are passed to the class when an object of the class is created. Unlike class attributes, instance attributes are not shared by all objects of the classs. instead each object maintains its own copy of instance attributes at object level. whereas incase of class attributes all instances of class refer to a single copy. Usually instance attributes are defined within the __init__ method of class\n",
    "\n",
    "Example: In the below sample code we are creating a class Car with instance varaibles color, price, engine, which will be provided when an instance of class Car is created.\n",
    "\n",
    "c"
   ]
  },
  {
   "cell_type": "markdown",
   "id": "f3ef69b8",
   "metadata": {},
   "source": [
    "Q5. What does the term \"self\" in a Python class mean?\n",
    "\n",
    "Ans. self represents the instance of the class (it represents the object itself). By using the “self” keyword we can access      the attributes and methods of the class with in the class in python. It binds the attributes with the given arguments."
   ]
  },
  {
   "cell_type": "markdown",
   "id": "e28087ad",
   "metadata": {},
   "source": [
    "Q6. How does a Python class handle operator overloading?\n",
    "\n",
    "Ans. Python Classes handle operator overloading by using special methods called Magic methods. these special methods            usually begin and end with __ (double underscore)\n",
    "     \n",
    "   Example: Magic methods for basic arithmetic operators are:\n",
    "\n",
    " + -> __add__()\n",
    " \n",
    "- -> __sub__()\n",
    "\n",
    "* -> __mul__()\n",
    "\n",
    "/ -> __div__()"
   ]
  },
  {
   "cell_type": "markdown",
   "id": "25f741bb",
   "metadata": {},
   "source": [
    "Q7. When do you consider allowing operator overloading of your classes?\n",
    "\n",
    "Ans. When we want to have different meaning for the same operator accroding to the context we use operator overloading.\n",
    "\n",
    " "
   ]
  },
  {
   "cell_type": "markdown",
   "id": "6e9fb636",
   "metadata": {},
   "source": [
    "Q8. What is the most popular form of operator overloading?\n",
    "\n",
    "Ans. The most popular form of operator overloading in python is by special methods called Magic methods. Which usually          beign and end with double underscore __<method name>__."
   ]
  },
  {
   "cell_type": "markdown",
   "id": "b2ee8854",
   "metadata": {},
   "source": [
    "Q9. What are the two most important concepts to grasp in order to comprehend Python OOP code?\n",
    "\n",
    "Ans. Classes and objects are the two concepts to comprehend python OOP code as more formally objects are entities that          represent instances of general abstract concept called class\n",
    "\n",
    "   Along with classes and objects the important concepts to grasp are:\n",
    "\n",
    "  Inheritence\n",
    "  Abstraction\n",
    "  Polymorphism\n",
    "  Encapsulation"
   ]
  },
  {
   "cell_type": "code",
   "execution_count": null,
   "id": "c4996c15",
   "metadata": {},
   "outputs": [],
   "source": []
  }
 ],
 "metadata": {
  "kernelspec": {
   "display_name": "Python 3 (ipykernel)",
   "language": "python",
   "name": "python3"
  },
  "language_info": {
   "codemirror_mode": {
    "name": "ipython",
    "version": 3
   },
   "file_extension": ".py",
   "mimetype": "text/x-python",
   "name": "python",
   "nbconvert_exporter": "python",
   "pygments_lexer": "ipython3",
   "version": "3.9.12"
  }
 },
 "nbformat": 4,
 "nbformat_minor": 5
}

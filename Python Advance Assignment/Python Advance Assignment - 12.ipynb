{
 "cells": [
  {
   "cell_type": "markdown",
   "id": "fc30bb66",
   "metadata": {},
   "source": [
    "Q1. Does assigning a value to a string's indexed character violate Python's string immutability?\n",
    "\n",
    "Ans. String’s indexed character cannot to be assigned a New value , as Strings are immutable.\n"
   ]
  },
  {
   "cell_type": "markdown",
   "id": "9cd0b25c",
   "metadata": {},
   "source": [
    "Q2. Does using the += operator to concatenate strings violate Python's string immutability? Why or why not?\n",
    "\n",
    "Ans: += operator is used to concatenate strings, it does not violate Python’s string immutability Property. Because doing so new creates a new association with data and variable. E.g. str_1=\"a\" and str_1+=\"b. effect of this statements to create string ab and reassign it to variable str_1, any string data is not actually modified.\n"
   ]
  },
  {
   "cell_type": "markdown",
   "id": "a8adfbfc",
   "metadata": {},
   "source": [
    "Q3. In Python, how many different ways are there to index a character?\n",
    "\n",
    "Ans: A Character in string can be indexed using string name followed by index number of character in square bracket. Positive Indexing i.e. first index is 0 an so on, or Negative Indexing i.e. last letter is -1 and so on can be used to index a character\n",
    "\n"
   ]
  },
  {
   "cell_type": "markdown",
   "id": "44150991",
   "metadata": {},
   "source": [
    "Q4. What is the relationship between indexing and slicing?\n",
    "\n",
    "Ans: We can access elements of sequence datatypes by using slicing and indexing. Indexing is used to obtaining individual element while slicing for sequence of elements.\n",
    "\n"
   ]
  },
  {
   "cell_type": "markdown",
   "id": "75e844bd",
   "metadata": {},
   "source": [
    "Q5. What is an indexed character's exact data type? What is the data form of a slicing-generated substring?\n",
    "\n",
    "Ans: Indexed characters and sliced substrings have datatype String.\n",
    "\n"
   ]
  },
  {
   "cell_type": "markdown",
   "id": "4863d864",
   "metadata": {},
   "source": [
    "Q6. What is the relationship between string and character \"types\" in Python?\n",
    "\n",
    "Ans: Object that contains sequence of character datatypes are called String."
   ]
  },
  {
   "cell_type": "markdown",
   "id": "b21bbfe5",
   "metadata": {},
   "source": [
    "Q7. Identify at least two operators and one method that allow you to combine one or more smaller strings to create a larger string.\n",
    "\n",
    "Ans. +, += and * allow to combine one or more smaller strings to create a larger string. <string>.join(<sep>) method joins element of iterable type like list and tuple to get a combined string."
   ]
  },
  {
   "cell_type": "markdown",
   "id": "e57fb09d",
   "metadata": {},
   "source": [
    "Q8. What is the benefit of first checking the target string with in or not in before using the index method to find a substring?\n",
    "\n",
    "Ans: Checking the target string with in or not Operators before using the index method to find a substring just helps confirming availability of substring and thus avoid raising of ValueError.\n",
    "Example:\n",
    "in_string = \"ineuron\"\n",
    "in_string.index('x') # Raises ValueError\n",
    "in_string.index('u') # 3\n",
    "\n"
   ]
  },
  {
   "cell_type": "markdown",
   "id": "98b9d405",
   "metadata": {},
   "source": [
    "Q9. Which operators and built-in string methods produce simple Boolean (true/false) results?\n",
    "\n",
    "Ans: The String Operators and built-in methods to Produce Simple Boolean (True/False) Results are:\n",
    "\n",
    "in\n",
    "not\n",
    "<string>.isalpha()\n",
    "<string>.isalnum()\n",
    "<string>.isdecimal()\n",
    "<string>.isdigit()\n",
    "<string>.islower()\n",
    "<string>.isnumeric()\n",
    "<string>.isprintable()\n",
    "<string>.isspace()\n",
    "<string>.istitle()"
   ]
  },
  {
   "cell_type": "code",
   "execution_count": null,
   "id": "56a7e5d5",
   "metadata": {},
   "outputs": [],
   "source": []
  }
 ],
 "metadata": {
  "kernelspec": {
   "display_name": "Python 3 (ipykernel)",
   "language": "python",
   "name": "python3"
  },
  "language_info": {
   "codemirror_mode": {
    "name": "ipython",
    "version": 3
   },
   "file_extension": ".py",
   "mimetype": "text/x-python",
   "name": "python",
   "nbconvert_exporter": "python",
   "pygments_lexer": "ipython3",
   "version": "3.9.12"
  }
 },
 "nbformat": 4,
 "nbformat_minor": 5
}

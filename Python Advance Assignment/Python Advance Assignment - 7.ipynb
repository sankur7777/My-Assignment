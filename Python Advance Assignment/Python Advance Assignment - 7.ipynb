{
 "cells": [
  {
   "cell_type": "markdown",
   "id": "e6eadedb",
   "metadata": {},
   "source": [
    "Q1. What is the purpose of the try statement?\n",
    "\n",
    "Ans. try statement is used for exception handling in python. it consists of a block of risky statements which might cause        an exception during runtime. if code within try block raises exception, then the exception will be reverted to the          corresponding except block if multiple except blocks are present, else it willbe reverted to the default except block.      In short try and except in union avoid programs from crashing during runtime due to exceptions."
   ]
  },
  {
   "cell_type": "markdown",
   "id": "dfa60d40",
   "metadata": {},
   "source": [
    "Q2. What are the two most popular try statement variations?\n",
    "\n",
    "Ans. The Popular try statement variations are:\n",
    "\n",
    "   try,except\n",
    "   try,except,finally\n",
    "   try,except,finally,else"
   ]
  },
  {
   "cell_type": "markdown",
   "id": "eb400194",
   "metadata": {},
   "source": [
    "Q3. What is the purpose of the raise statement?\n",
    "\n",
    "Ans. raise statement is used to trigger an exception explicitly, if a certain condition is not as per requirement of            programmer. raise statement helps in triggering exception as per programming logic."
   ]
  },
  {
   "cell_type": "markdown",
   "id": "9b0a5255",
   "metadata": {},
   "source": [
    "Q4. What does the assert statement do, and what other statement is it like?\n",
    "\n",
    "Ans. There are few assertions that programmer always want to be true to avoid code failure. This type of requirement is          fulfilled by assert statement. This statement takes a boolean condition output of which is True, Further Program            Executes. if output of assert statement is False, it raises an Assertion Error."
   ]
  },
  {
   "cell_type": "markdown",
   "id": "6b065337",
   "metadata": {},
   "source": [
    "Q5. What is the purpose of the with/as argument, and what other statement is it like?\n",
    "\n",
    "Ans. with/as statement simplifies use of file handling in python. When we use a with statement for file reading, there is        no need for programmer to explicitly takecare of activities like resource deallocation and file closing by using            file.close() method. with statement itself ensures proper acquisition and release of resources. this avoids triggering      of exceptions if file closing is unknowingly forgotten in the code execution.\n",
    "\n",
    "with open('sample_file.txt','w') as file:\n",
    "    file.write('Hello World')"
   ]
  },
  {
   "cell_type": "code",
   "execution_count": null,
   "id": "1f12ef6f",
   "metadata": {},
   "outputs": [],
   "source": []
  }
 ],
 "metadata": {
  "kernelspec": {
   "display_name": "Python 3 (ipykernel)",
   "language": "python",
   "name": "python3"
  },
  "language_info": {
   "codemirror_mode": {
    "name": "ipython",
    "version": 3
   },
   "file_extension": ".py",
   "mimetype": "text/x-python",
   "name": "python",
   "nbconvert_exporter": "python",
   "pygments_lexer": "ipython3",
   "version": "3.9.12"
  }
 },
 "nbformat": 4,
 "nbformat_minor": 5
}

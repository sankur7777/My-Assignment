{
 "cells": [
  {
   "cell_type": "markdown",
   "id": "10e35ca6",
   "metadata": {},
   "source": [
    "Q1. What is the concept of an abstract superclass?\n",
    "\n",
    "Ans. An abstract class/superclass can be considered as a blueprint for other classes. It allows you to create a set of          methods that must be created within any child classes built from the abstract class. A class which contains one or          more abstract methods is called an abstract class.\n",
    "\n",
    "  "
   ]
  },
  {
   "cell_type": "markdown",
   "id": "c95cc631",
   "metadata": {},
   "source": [
    "Q2. What happens when a class statement's top level contains a basic assignment statement?\n",
    "\n",
    "Ans. When a Class statement's top level contains a basic assignment statement, its usually treated as a class attribute or      class level variable.\n",
    "\n",
    "   where as assignment statements inside methods are treated as instance attributes or local attributes.\n",
    "\n",
    "   When an instance of a class is created a single copy of class attributes is maintained and shared to all instances of      class. where as each instance object maintains its own copy of instance variables."
   ]
  },
  {
   "cell_type": "markdown",
   "id": "2c6a38b4",
   "metadata": {},
   "source": [
    "Q3. Why does a class need to manually call a superclass's __init__ method?\n",
    "\n",
    "Ans.  if a child class has __init__ method, then it will not inherit the __init__ method of the parent class. in other           words the __init__ method of the child class overrides the __init__ method of the parent class. so we have to               manually call a parent superclass's __init__ using super() method"
   ]
  },
  {
   "cell_type": "markdown",
   "id": "594ee33f",
   "metadata": {},
   "source": [
    "Q4. How can you augment, instead of completely replacing, an inherited method?\n",
    "\n",
    "Ans. super() method can be used to augment, instead of completely replacing, an inherited method."
   ]
  },
  {
   "cell_type": "markdown",
   "id": "6ccd5fe6",
   "metadata": {},
   "source": [
    "Q5. How is the local scope of a class different from that of a function?\n",
    "\n",
    "Ans. A Variable which is defined inside a function is local to that function. it is accesible from the point at which it is     defined until the end of the function, and exists for as long as the function is existing.\n",
    "\n",
    "   Similary a variable inside of a class also has a local variable scope. Variables which are defined in the class body        (but outside all methods) are called as class level variables or class attributes. they can be referenced by there bare    names within the same scope, but they can also be accessed from outside this scope if we use the attribute access          operator (.). on a class or an instance of the class."
   ]
  },
  {
   "cell_type": "code",
   "execution_count": null,
   "id": "2041b471",
   "metadata": {},
   "outputs": [],
   "source": []
  }
 ],
 "metadata": {
  "kernelspec": {
   "display_name": "Python 3 (ipykernel)",
   "language": "python",
   "name": "python3"
  },
  "language_info": {
   "codemirror_mode": {
    "name": "ipython",
    "version": 3
   },
   "file_extension": ".py",
   "mimetype": "text/x-python",
   "name": "python",
   "nbconvert_exporter": "python",
   "pygments_lexer": "ipython3",
   "version": "3.9.12"
  }
 },
 "nbformat": 4,
 "nbformat_minor": 5
}

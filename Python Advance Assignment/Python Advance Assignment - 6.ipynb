{
 "cells": [
  {
   "cell_type": "markdown",
   "id": "68c9d09f",
   "metadata": {},
   "source": [
    "Q1. Describe three applications for exception processing.\n",
    "\n",
    "Ans. Exception Processing is important to find exceptions that causes the runtime error. As runtime errors Halt the program      execution when exception occurs.\n",
    "\n",
    "   Exception Processing is used in Various Applications of which few examples are:\n",
    "\n",
    "   Checking Appropriate use of input in an application\n",
    "   \n",
    "   Checking for Arithmetic exceptions in mathematical executions\n",
    "   \n",
    "   Checking File I/O exceptions during File handling"
   ]
  },
  {
   "cell_type": "markdown",
   "id": "a2ad7a40",
   "metadata": {},
   "source": [
    "Q2. What happens if you don't do something extra to treat an exception?\n",
    "\n",
    "Ans. If Exceptions are not handled flow of program will be broken during the run time which might lead to a abnormal            termination of the program. Inshort inability of program to handle exceptions will result in crashing of program."
   ]
  },
  {
   "cell_type": "markdown",
   "id": "1f02c354",
   "metadata": {},
   "source": [
    "Q3. What are your options for recovering from an exception in your script?\n",
    "\n",
    "Ans. Python provides try and except statements for recovering from an exception in your script."
   ]
  },
  {
   "cell_type": "markdown",
   "id": "dcdd6eeb",
   "metadata": {},
   "source": [
    "Q4. Describe two methods for triggering exceptions in your script.\n",
    "\n",
    "Ans. raise and assert are two methods that can be used to trigger manual exceptions in your script.\n",
    "\n",
    "   raise method triggers an exception if condition provided to it turns out to be True.\n",
    "   \n",
    "   assert will let the program to continue execution if condition provided to it turns out to be True else exception will      be raised"
   ]
  },
  {
   "cell_type": "markdown",
   "id": "8eafb25b",
   "metadata": {},
   "source": [
    "Q5. Identify two methods for specifying actions to be executed at termination time, regardless of whether or not an exception exists.\n",
    "\n",
    "Ans. Python Provides else and finally blocks for specifying actions to be executed at termination time, regardless of            whether an exceptions exists or not."
   ]
  },
  {
   "cell_type": "code",
   "execution_count": null,
   "id": "41c85a02",
   "metadata": {},
   "outputs": [],
   "source": []
  }
 ],
 "metadata": {
  "kernelspec": {
   "display_name": "Python 3 (ipykernel)",
   "language": "python",
   "name": "python3"
  },
  "language_info": {
   "codemirror_mode": {
    "name": "ipython",
    "version": 3
   },
   "file_extension": ".py",
   "mimetype": "text/x-python",
   "name": "python",
   "nbconvert_exporter": "python",
   "pygments_lexer": "ipython3",
   "version": "3.9.12"
  }
 },
 "nbformat": 4,
 "nbformat_minor": 5
}

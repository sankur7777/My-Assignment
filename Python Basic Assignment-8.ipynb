{
 "cells": [
  {
   "cell_type": "markdown",
   "id": "fdb5b77c",
   "metadata": {},
   "source": [
    "Q1. Is the Python Standard Library included with PyInputPlus?\n",
    "\n",
    "Ans. PyInputPlus is a python module which is used for taking inputs with additional validation features. PyInputPlus will keep asking the user for text until they enter valid input."
   ]
  },
  {
   "cell_type": "markdown",
   "id": "6400acd9",
   "metadata": {},
   "source": [
    "Q2. Why is PyInputPlus commonly imported with import pyinputplus as pypi?\n",
    "\n",
    "Ans. We import pyinputplus as pypi so that we can give it a small alias name. So thatwe can enter a small name while calling it."
   ]
  },
  {
   "cell_type": "markdown",
   "id": "6c3a4c6b",
   "metadata": {},
   "source": [
    "Q3. How do you distinguish between inputInt() and inputFloat()?\n",
    "\n",
    "Ans. The inputInt() function returns an integer, while the inputFloat() function returns a float value."
   ]
  },
  {
   "cell_type": "markdown",
   "id": "39b5a562",
   "metadata": {},
   "source": [
    "Q4. Using PyInputPlus, how do you ensure that the user enters a whole number between 0 and 99?\n",
    "\n",
    "Ans.In the inputint function we can set the min = 0 and max =99 to ensure user enters number between 0 and 99\n",
    "     \n",
    "   By using pyip.inputint(min=0, max=99)\n",
    "\n"
   ]
  },
  {
   "cell_type": "markdown",
   "id": "8bf08f53",
   "metadata": {},
   "source": [
    "Q5. What is transferred to the keyword arguments allowRegexes and blockRegexes?\n",
    "\n",
    "Ans. We can also use regular expressions to specify whether an input is allowed or not. The allowRegexes and blockRegexes keyword arguments take a list of regular expression strings to determine what the PyInputPlus function will accept or reject as valid input.\n"
   ]
  },
  {
   "cell_type": "markdown",
   "id": "d73ad11b",
   "metadata": {},
   "source": [
    "Q6.If a blank input is entered three times, what does inputStr(limit=3) do?\n",
    "\n",
    "Ans. It will throw RetryLimitException exception.\n"
   ]
  },
  {
   "cell_type": "markdown",
   "id": "a9e2b672",
   "metadata": {},
   "source": [
    "Q7. If blank input is entered three times, what does inputStr(limit=3, default='hello') do?\n",
    "\n",
    "Ans. When you use limit keyword arguments and also pass a default keyword argument, the function returns the default value      instead of raising an exception\n"
   ]
  },
  {
   "cell_type": "code",
   "execution_count": null,
   "id": "b9406d57",
   "metadata": {},
   "outputs": [],
   "source": []
  }
 ],
 "metadata": {
  "kernelspec": {
   "display_name": "Python 3 (ipykernel)",
   "language": "python",
   "name": "python3"
  },
  "language_info": {
   "codemirror_mode": {
    "name": "ipython",
    "version": 3
   },
   "file_extension": ".py",
   "mimetype": "text/x-python",
   "name": "python",
   "nbconvert_exporter": "python",
   "pygments_lexer": "ipython3",
   "version": "3.9.12"
  }
 },
 "nbformat": 4,
 "nbformat_minor": 5
}

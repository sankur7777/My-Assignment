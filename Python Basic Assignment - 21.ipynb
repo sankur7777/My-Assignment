{
 "cells": [
  {
   "cell_type": "markdown",
   "id": "3972b2a7",
   "metadata": {},
   "source": [
    "Q1. Add the current date to the text file today.txt as a string."
   ]
  },
  {
   "cell_type": "code",
   "execution_count": 4,
   "id": "f1a534c8",
   "metadata": {},
   "outputs": [],
   "source": [
    "#Ans.1\n",
    "\n",
    "import datetime\n",
    "# Code to Add current date to the today.txt file\n",
    "file = open('today.txt','w')\n",
    "file.write(datetime.datetime.now().strftime(\"%d-%m-%Y\"))\n",
    "file.close()\n"
   ]
  },
  {
   "cell_type": "markdown",
   "id": "3f375681",
   "metadata": {},
   "source": [
    "Q2. Read the text file today.txt into the string today_string"
   ]
  },
  {
   "cell_type": "code",
   "execution_count": 5,
   "id": "b682dffe",
   "metadata": {},
   "outputs": [
    {
     "name": "stdout",
     "output_type": "stream",
     "text": [
      "05-09-2022\n"
     ]
    }
   ],
   "source": [
    "#Ans.2\n",
    "\n",
    "# Code to Read current date from today.txt file\n",
    "file = open('today.txt','r')\n",
    "today_string = file.read()\n",
    "print(today_string)"
   ]
  },
  {
   "cell_type": "markdown",
   "id": "b02fdbf5",
   "metadata": {},
   "source": [
    "Q3. Parse the date from today_string."
   ]
  },
  {
   "cell_type": "code",
   "execution_count": 6,
   "id": "f1a7a0c8",
   "metadata": {},
   "outputs": [
    {
     "name": "stdout",
     "output_type": "stream",
     "text": [
      "2022-09-05 00:00:00\n"
     ]
    }
   ],
   "source": [
    "#Ans.3\n",
    "\n",
    "from datetime import datetime\n",
    "parsed_data = datetime.strptime(today_string, '%d-%m-%Y')\n",
    "print(parsed_data)"
   ]
  },
  {
   "cell_type": "markdown",
   "id": "a1df7325",
   "metadata": {},
   "source": [
    "Q4. List the files in your current directory"
   ]
  },
  {
   "cell_type": "code",
   "execution_count": 7,
   "id": "28806f4f",
   "metadata": {},
   "outputs": [
    {
     "name": "stdout",
     "output_type": "stream",
     "text": [
      "books.csv\n",
      "books.db\n",
      "Python Basic Assignment -  14.ipynb\n",
      "Python Basic Assignment - 13.ipynb\n",
      "Python Basic Assignment - 15.ipynb\n",
      "Python Basic Assignment - 16.ipynb\n",
      "Python Basic Assignment - 17.ipynb\n",
      "Python Basic Assignment - 18.ipynb\n",
      "Python Basic Assignment - 19.ipynb\n",
      "Python Basic Assignment - 20.ipynb\n",
      "Python Basic Assignment - 21.ipynb\n",
      "Python Basic Assignment -11.ipynb\n",
      "Python Basic Assignment-1.ipynb\n",
      "Python Basic Assignment-10.ipynb\n",
      "Python Basic Assignment-12.ipynb\n",
      "Python Basic Assignment-2.ipynb\n",
      "Python Basic Assignment-3.ipynb\n",
      "Python Basic Assignment-4.ipynb\n",
      "Python Basic Assignment-5.ipynb\n",
      "Python Basic Assignment-6.ipynb\n",
      "Python Basic Assignment-7.ipynb\n",
      "Python Basic Assignment-8.ipynb\n",
      "Python Basic Assignment-9.ipynb\n",
      "test.txt\n",
      "today.txt\n",
      "zoo.py\n",
      "Python Basic Assignment -  14-checkpoint.ipynb\n",
      "Python Basic Assignment - 13-checkpoint.ipynb\n",
      "Python Basic Assignment - 15-checkpoint.ipynb\n",
      "Python Basic Assignment - 16-checkpoint.ipynb\n",
      "Python Basic Assignment - 17-checkpoint.ipynb\n",
      "Python Basic Assignment - 18-checkpoint.ipynb\n",
      "Python Basic Assignment - 19-checkpoint.ipynb\n",
      "Python Basic Assignment - 20-checkpoint.ipynb\n",
      "Python Basic Assignment - 21-checkpoint.ipynb\n",
      "Python Basic Assignment -11-checkpoint.ipynb\n",
      "Python Basic Assignment-1-checkpoint.ipynb\n",
      "Python Basic Assignment-10-checkpoint.ipynb\n",
      "Python Basic Assignment-12-checkpoint.ipynb\n",
      "Python Basic Assignment-2-checkpoint.ipynb\n",
      "Python Basic Assignment-3-checkpoint.ipynb\n",
      "Python Basic Assignment-4-checkpoint.ipynb\n",
      "Python Basic Assignment-5-checkpoint.ipynb\n",
      "Python Basic Assignment-6-checkpoint.ipynb\n",
      "Python Basic Assignment-7-checkpoint.ipynb\n",
      "Python Basic Assignment-8-checkpoint.ipynb\n",
      "Python Basic Assignment-9-checkpoint.ipynb\n",
      "zoo.cpython-39.pyc\n"
     ]
    }
   ],
   "source": [
    "#Ans.4\n",
    "import os\n",
    "for folders, subfolders, files in os.walk(os.getcwd()):\n",
    "    for file in files:\n",
    "        print(file)"
   ]
  },
  {
   "cell_type": "markdown",
   "id": "d03632af",
   "metadata": {},
   "source": [
    "Q5. Create a list of all of the files in your parent directory (minimum five files should be available)."
   ]
  },
  {
   "cell_type": "code",
   "execution_count": 11,
   "id": "ca126dc4",
   "metadata": {},
   "outputs": [
    {
     "data": {
      "text/plain": [
       "['.ipynb_checkpoints',\n",
       " 'books.csv',\n",
       " 'books.db',\n",
       " 'Python Basic Assignment -  14.ipynb',\n",
       " 'Python Basic Assignment - 13.ipynb',\n",
       " 'Python Basic Assignment - 15.ipynb',\n",
       " 'Python Basic Assignment - 16.ipynb',\n",
       " 'Python Basic Assignment - 17.ipynb',\n",
       " 'Python Basic Assignment - 18.ipynb',\n",
       " 'Python Basic Assignment - 19.ipynb',\n",
       " 'Python Basic Assignment - 20.ipynb',\n",
       " 'Python Basic Assignment - 21.ipynb',\n",
       " 'Python Basic Assignment -11.ipynb',\n",
       " 'Python Basic Assignment-1.ipynb',\n",
       " 'Python Basic Assignment-10.ipynb',\n",
       " 'Python Basic Assignment-12.ipynb',\n",
       " 'Python Basic Assignment-2.ipynb',\n",
       " 'Python Basic Assignment-3.ipynb',\n",
       " 'Python Basic Assignment-4.ipynb',\n",
       " 'Python Basic Assignment-5.ipynb',\n",
       " 'Python Basic Assignment-6.ipynb',\n",
       " 'Python Basic Assignment-7.ipynb',\n",
       " 'Python Basic Assignment-8.ipynb',\n",
       " 'Python Basic Assignment-9.ipynb',\n",
       " 'test.txt',\n",
       " 'today.txt',\n",
       " 'zoo.py',\n",
       " '__pycache__']"
      ]
     },
     "execution_count": 11,
     "metadata": {},
     "output_type": "execute_result"
    }
   ],
   "source": [
    "#Ans5.\n",
    "\n",
    "import os \n",
    "os.listdir()"
   ]
  },
  {
   "cell_type": "markdown",
   "id": "3c527367",
   "metadata": {},
   "source": [
    "Q6. Use multiprocessing to create three separate processes. Make each one wait a random number of seconds between one and five, print the current time, and then exit."
   ]
  },
  {
   "cell_type": "code",
   "execution_count": 12,
   "id": "e3c31230",
   "metadata": {},
   "outputs": [],
   "source": [
    "#Ans6.\n",
    "\n",
    "import multiprocessing\n",
    "import time \n",
    "import random\n",
    "import datetime\n",
    "\n",
    "def procOne():\n",
    "    print(f'Proc_one_Starttime -> {datetime.datetime.now()}')\n",
    "    time.sleep(random.randint(1,5))\n",
    "    print(f'Proc_one_Endtime -> {datetime.datetime.now()}')\n",
    "    \n",
    "def procTwo():\n",
    "    print(f'Proc_two_Starttime -> {datetime.datetime.now()}')\n",
    "    time.sleep(random.randint(1,5))\n",
    "    print(f'Proc_two_Endtime -> {datetime.datetime.now()}')\n",
    "\n",
    "def procThree():\n",
    "    print(f'Proc_two_Starttime -> {datetime.datetime.now()}')\n",
    "    time.sleep(random.randint(1,5))\n",
    "    print(f'Proc_two_Endtime -> {datetime.datetime.now()}')\n",
    "    \n",
    "if __name__ == \"__main__\":    \n",
    "    p1 = multiprocessing.Process(target=procOne)\n",
    "    p2 = multiprocessing.Process(target=procTwo)\n",
    "    p3 = multiprocessing.Process(target=procThree)\n",
    "\n",
    "    p1.start()\n",
    "    p2.start()\n",
    "    p3.start()\n",
    "\n",
    "    p1.join()\n",
    "    p2.join()\n",
    "    p3.join()"
   ]
  },
  {
   "cell_type": "markdown",
   "id": "4e706bac",
   "metadata": {},
   "source": [
    "Q7. Create a date object of your day of birth."
   ]
  },
  {
   "cell_type": "code",
   "execution_count": 14,
   "id": "31ed037b",
   "metadata": {},
   "outputs": [
    {
     "name": "stdout",
     "output_type": "stream",
     "text": [
      "1998-06-20 00:00:00 <class 'datetime.datetime'>\n"
     ]
    }
   ],
   "source": [
    "#Ans7.\n",
    "\n",
    "from datetime import datetime\n",
    "my_dob = datetime.strptime('20/06/1998','%d/%m/%Y')\n",
    "print(my_dob, type(my_dob))"
   ]
  },
  {
   "cell_type": "markdown",
   "id": "789e2c1e",
   "metadata": {},
   "source": [
    "Q8. What day of the week was your day of birth?"
   ]
  },
  {
   "cell_type": "code",
   "execution_count": 15,
   "id": "dc798d9c",
   "metadata": {},
   "outputs": [
    {
     "data": {
      "text/plain": [
       "'Saturday'"
      ]
     },
     "execution_count": 15,
     "metadata": {},
     "output_type": "execute_result"
    }
   ],
   "source": [
    "#Ans8.\n",
    "\n",
    "from datetime import datetime\n",
    "my_dob = datetime(1998,6,20)\n",
    "my_dob.strftime(\"%A\")"
   ]
  },
  {
   "cell_type": "markdown",
   "id": "d2c33ac7",
   "metadata": {},
   "source": [
    "Q9. When will you be (or when were you) 10,000 days old?"
   ]
  },
  {
   "cell_type": "code",
   "execution_count": 16,
   "id": "3d60f731",
   "metadata": {},
   "outputs": [
    {
     "data": {
      "text/plain": [
       "datetime.datetime(1971, 2, 2, 0, 0)"
      ]
     },
     "execution_count": 16,
     "metadata": {},
     "output_type": "execute_result"
    }
   ],
   "source": [
    "#Ans10\n",
    "\n",
    "from datetime import datetime, timedelta\n",
    "my_dob = datetime.strptime(\"20/06/1998\",'%d/%m/%Y')\n",
    "future_date = my_dob-timedelta(10000)\n",
    "future_date"
   ]
  },
  {
   "cell_type": "code",
   "execution_count": null,
   "id": "4006e79b",
   "metadata": {},
   "outputs": [],
   "source": []
  }
 ],
 "metadata": {
  "kernelspec": {
   "display_name": "Python 3 (ipykernel)",
   "language": "python",
   "name": "python3"
  },
  "language_info": {
   "codemirror_mode": {
    "name": "ipython",
    "version": 3
   },
   "file_extension": ".py",
   "mimetype": "text/x-python",
   "name": "python",
   "nbconvert_exporter": "python",
   "pygments_lexer": "ipython3",
   "version": "3.9.12"
  }
 },
 "nbformat": 4,
 "nbformat_minor": 5
}

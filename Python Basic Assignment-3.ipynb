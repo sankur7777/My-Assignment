{
 "cells": [
  {
   "cell_type": "markdown",
   "id": "f77a2056",
   "metadata": {},
   "source": [
    "Q1. Why are functions advantageous to have in your programs?\n",
    "\n",
    "Ans. Functions are advantageous to have in our program so that we donot have to write the same code again and again and\n",
    "     we can directly call that functions so it saves our time."
   ]
  },
  {
   "cell_type": "markdown",
   "id": "6b8cd48c",
   "metadata": {},
   "source": [
    "Q2. When does the code in a function run: when it's specified or when it's called?\n",
    "\n",
    "Ans. The code in a function run when it is called."
   ]
  },
  {
   "cell_type": "markdown",
   "id": "789147ee",
   "metadata": {},
   "source": [
    "Q3. What statement creates a function?\n",
    "\n",
    "Ans. A function is defined by using the def keyword, followed by the name that we provide, followed by a set of parentheses      which hold any parameters the function will take (they can be empty), and ending with a colon.\n",
    "\n",
    "     For example :- def hello():\n",
    "                        print('Hello how are you')\n",
    "           \n"
   ]
  },
  {
   "cell_type": "markdown",
   "id": "32bdc569",
   "metadata": {},
   "source": [
    "Q4. What is the difference between a function and a function call?\n",
    "\n",
    "Ans. Using a function to do a particular task at any point in program is called as function call. while a function is            procedure to achieve a particular result.\n"
   ]
  },
  {
   "cell_type": "markdown",
   "id": "a5aee925",
   "metadata": {},
   "source": [
    "Q5. How many global scopes are there in a Python program? How many local scopes?\n",
    "\n",
    "Ans. There's only one global Python scope per program execution. This scope remains in existence until the program              terminates and all its names are forgotten.\n",
    "\n",
    "   A variable created inside a function belongs to the local scope of that function, and can only be used inside that          function.\n",
    "\n",
    "\n",
    "\n",
    "     \n",
    "\n"
   ]
  },
  {
   "cell_type": "markdown",
   "id": "7f167bd2",
   "metadata": {},
   "source": [
    "Q6. What happens to variables in a local scope when the function call returns?\n",
    "\n",
    "Ans. A local variable retains its value until the next time the function is called. A local variable becomes undefined          after the function call completes. The local variable can be used outside the function any time after the function          call completes.\n"
   ]
  },
  {
   "cell_type": "markdown",
   "id": "4c2895dc",
   "metadata": {},
   "source": [
    "Q7.  What is the concept of a return value? Is it possible to have a return value in an expression?\n",
    "\n",
    "Ans. A return is a value that a function returns to the calling script or function when it completes its task. A return          value can be any one of the four variable types: handle, integer, object, or string. But it cannot be an expression.\n"
   ]
  },
  {
   "cell_type": "markdown",
   "id": "b7fdfa79",
   "metadata": {},
   "source": [
    "Q8. If a function does not have a return statement, what is the return value of a call to that function?\n",
    "\n",
    "Ans. If a function doesn't specify a return value, it returns None."
   ]
  },
  {
   "cell_type": "markdown",
   "id": "1524ebb8",
   "metadata": {},
   "source": [
    "Q9. How do you make a function variable refer to the global variable?\n",
    "\n",
    "Ans. If we want to refer to a global variable in a function, we can use the global keyword to declare which variables are      global.\n"
   ]
  },
  {
   "cell_type": "markdown",
   "id": "01cdbea1",
   "metadata": {},
   "source": [
    "Q10. What is the data type of None?\n",
    "\n",
    "Ans. The None keyword is used to define a null value, or no value at all.None is a data type of its own (NoneType).\n"
   ]
  },
  {
   "cell_type": "markdown",
   "id": "44b785da",
   "metadata": {},
   "source": [
    "Q11. What does the sentence import areallyourpetsnamederic do?\n",
    "\n",
    "Ans. This import statement imports a module named areallyourpetsnamederic."
   ]
  },
  {
   "cell_type": "markdown",
   "id": "9f7d5117",
   "metadata": {},
   "source": [
    "Q12. If you had a bacon() feature in a spam module, what would you call it after importing spam?\n",
    "\n",
    "Ans. This will be called as \"from spam import bacon\"."
   ]
  },
  {
   "cell_type": "markdown",
   "id": "0de88b2a",
   "metadata": {},
   "source": [
    "Q13. What can you do to save a programme from crashing if it encounters an error?\n",
    "\n",
    "Ans. When it encounters an error, the control is passed to the except block, skipping the code in between. We can move our      code inside a try and except statement. Try running the program and it should throw an error message instead of            crashing the program.\n",
    " "
   ]
  },
  {
   "cell_type": "markdown",
   "id": "929c00b2",
   "metadata": {},
   "source": [
    "Q14.What is the purpose of the try clause? What is the purpose of the except clause?\n",
    "\n",
    "Ans. The try block is used to check some code for errors i.e the code inside the try block will execute when there is no        error in the program. Whereas the code inside the except block will execute whenever the program encounters some error      in the preceding try block.\n"
   ]
  },
  {
   "cell_type": "code",
   "execution_count": null,
   "id": "15d2d69a",
   "metadata": {},
   "outputs": [],
   "source": []
  }
 ],
 "metadata": {
  "kernelspec": {
   "display_name": "Python 3",
   "language": "python",
   "name": "python3"
  },
  "language_info": {
   "codemirror_mode": {
    "name": "ipython",
    "version": 3
   },
   "file_extension": ".py",
   "mimetype": "text/x-python",
   "name": "python",
   "nbconvert_exporter": "python",
   "pygments_lexer": "ipython3",
   "version": "3.8.8"
  }
 },
 "nbformat": 4,
 "nbformat_minor": 5
}

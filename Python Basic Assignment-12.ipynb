{
 "cells": [
  {
   "cell_type": "markdown",
   "id": "56298f89",
   "metadata": {},
   "source": [
    "Q1. In what modes should the PdfFileReader() and PdfFileWriter() File objects will be opened?\n",
    "\n",
    "Ans. PdfFileReader() needs to be opened in read-binary mode by passing 'rb' as the second              argument to open(). Likewise, the File object passed to PyPDF2. PdfFileWriter() needs to be      opened in write-binary mode with 'wb'."
   ]
  },
  {
   "cell_type": "markdown",
   "id": "2aa11d43",
   "metadata": {},
   "source": [
    "Q2. From a PdfFileReader object, how do you get a Page object for page 5?\n",
    "\n",
    "Ans. Calling getPage(4) will return a Page object for page 5 since page 0 is the first page"
   ]
  },
  {
   "cell_type": "markdown",
   "id": "13af5dc0",
   "metadata": {},
   "source": [
    "Q3. What PdfFileReader variable stores the number of pages in the PDF document?\n",
    "\n",
    "Ans. import PyPDF2 as pdf\n",
    "     pdfFileObj = open(\"data.pdf\",'rb')\n",
    "     pdfReader = pdf.PdfFileReader(pdfFileObj)\n",
    "    pdfReader.numPages"
   ]
  },
  {
   "cell_type": "markdown",
   "id": "82bab2b1",
   "metadata": {},
   "source": [
    "Q4 If a PdfFileReader object’s PDF is encrypted with the password swordfish, what must you do before you can obtain Page objects from it?\n",
    "\n",
    "Ans. Before we obtain the page object, the pdf has to be decrypted by calling .decrypt('swordfish')"
   ]
  },
  {
   "cell_type": "markdown",
   "id": "8f8fbcc9",
   "metadata": {},
   "source": [
    "Q5. What methods do you use to rotate a page?\n",
    "\n",
    "Ans. pageObj.rotateClockwise(180)\n",
    "\n",
    "   The rotateClockwise() and rotateCounterClockwise() methods. The degrees to rotate is passed as an integer argument"
   ]
  },
  {
   "cell_type": "markdown",
   "id": "ddd325f3",
   "metadata": {},
   "source": [
    "Q6. What is the difference between a Run object and a Paragraph object?\n",
    "\n",
    "Ans. Paragraph Object : A document contains multiple paragraphs. A paragraph begins on a new line and contains multiple          runs. The Document object contains a list of Paragraph objects for the paragraphs in the document. (A new paragraph        begins whenever the user presses ENTER or RETURN while typing in a Word document.)\n",
    "\n",
    "   Run Objects : Runs are contiguous groups of characters within a paragraph with the same style"
   ]
  },
  {
   "cell_type": "markdown",
   "id": "8b26e579",
   "metadata": {},
   "source": [
    "Q7. How do you obtain a list of Paragraph objects for a Document object that’s stored in a variable named doc?\n",
    "\n",
    "Ans. #!pip install python-docx\n",
    "     import docx\n",
    "     doc = docx.Document('abc.docx')\n",
    "     doc.paragraphs\n",
    "     #By using doc.paragraphs"
   ]
  },
  {
   "cell_type": "markdown",
   "id": "d3ab9d4c",
   "metadata": {},
   "source": [
    "Q8. What type of object has bold, underline, italic, strike, and outline variables?\n",
    "\n",
    "Ans. A Run object has bold, underline,italic,strike and outline variables"
   ]
  },
  {
   "cell_type": "markdown",
   "id": "9550ccd1",
   "metadata": {},
   "source": [
    "Q9. What is the difference between False, True, and None for the bold variable?\n",
    "\n",
    "Ans. Runs can be further styled using text attributes. Each attribute can be set to one of three values:\n",
    "     True (the attribute is always enabled, no matter what other styles are applied to the run),\n",
    "     False (the attribute is always disabled),\n",
    "     None (defaults to whatever the run’s style is set to)\n",
    "\n",
    "   True always makes the Run object bolded and False makes it always not bolded, no matter what the style’s bold setting       is. None will make the Run object just use the style’s bold setting"
   ]
  },
  {
   "cell_type": "markdown",
   "id": "e22ba314",
   "metadata": {},
   "source": [
    "Q10. How do you create a Document object for a new Word document?\n",
    "\n",
    "Ans. By Calling the docx.Document() function."
   ]
  },
  {
   "cell_type": "markdown",
   "id": "65b006ee",
   "metadata": {},
   "source": [
    "Q11. How do you add a paragraph with the text 'Hello, there!' to a Document object stored in a variable named doc?\n",
    "\n",
    "Ans. import docx\n",
    "     doc = docx.Document()\n",
    "\n",
    "   doc.add_paragraph('Hello there!')\n",
    "   doc.save('hellothere.docx')"
   ]
  },
  {
   "cell_type": "markdown",
   "id": "82b21fdf",
   "metadata": {},
   "source": [
    "Q12. What integers represent the levels of headings available in Word documents?\n",
    "\n",
    "Ans. integer from 0 to 4. The arguments to add_heading() are a string of the heading text and an integer from 0 to 4. The integer 0 makes the heading the Title style, which is used for the top of the document. Integers 1 to 4 are for various heading levels, with 1 being the main heading and 4 the lowest subheading"
   ]
  },
  {
   "cell_type": "code",
   "execution_count": null,
   "id": "6ee19e5c",
   "metadata": {},
   "outputs": [],
   "source": []
  }
 ],
 "metadata": {
  "kernelspec": {
   "display_name": "Python 3 (ipykernel)",
   "language": "python",
   "name": "python3"
  },
  "language_info": {
   "codemirror_mode": {
    "name": "ipython",
    "version": 3
   },
   "file_extension": ".py",
   "mimetype": "text/x-python",
   "name": "python",
   "nbconvert_exporter": "python",
   "pygments_lexer": "ipython3",
   "version": "3.9.12"
  }
 },
 "nbformat": 4,
 "nbformat_minor": 5
}

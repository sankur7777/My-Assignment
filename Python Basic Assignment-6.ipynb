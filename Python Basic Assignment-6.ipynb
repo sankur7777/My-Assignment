{
 "cells": [
  {
   "cell_type": "markdown",
   "id": "4ab59fb4",
   "metadata": {},
   "source": [
    "Q1. What are escape characters, and how do you use them?\n",
    "\n",
    "Ans. To insert characters that are illegal in a string, use an escape character. An escape character is a backslash \\            followed by the character you want to insert.\n",
    "     For Example :- \"My name is \\\"Ankur\\\" Shrivastava\""
   ]
  },
  {
   "cell_type": "markdown",
   "id": "79ad2ea9",
   "metadata": {},
   "source": [
    "Q2. What do the escape characters n and t stand for?\n",
    "\n",
    "Ans. \"n\" in escape characters stands for newline while \"t\" in escape characters stands for horizontal tab."
   ]
  },
  {
   "cell_type": "markdown",
   "id": "355a180a",
   "metadata": {},
   "source": [
    "Q3. What is the way to include backslash characters in a string?\n",
    "\n",
    "Ans. print('It\\'s raining outside')"
   ]
  },
  {
   "cell_type": "markdown",
   "id": "f7ee0431",
   "metadata": {},
   "source": [
    "Q4. The string \"Howl's Moving Castle\" is a correct value. Why isn't the single quote character in the word Howl's not           escaped a problem?\n",
    "\n",
    "Ans. The single quote character in the above sentence haven't escaped a problem because the above sentence is closed in          double quote."
   ]
  },
  {
   "cell_type": "markdown",
   "id": "58a9588e",
   "metadata": {},
   "source": [
    "Q5. How do you write a string of newlines if you don't want to use the n character?\n",
    "\n",
    "Ans. An alternative for new line without using a \"n\" character can be, (if using print() ) would to be to call print()          exactly as shown with no data, resulting in a blank line."
   ]
  },
  {
   "cell_type": "markdown",
   "id": "b455f5f0",
   "metadata": {},
   "source": [
    "Q6. What are the values of the given expressions?\n",
    "\n",
    "   'Hello, world!'[1] \n",
    "   'Hello, world!'[0:5]\n",
    "   'Hello, world!'[:5]\n",
    "   'Hello, world!'[3:]\n",
    "\n",
    "\n",
    "Ans. 'Hello, world!'[1] = 'e'\n",
    "\n",
    "   'Hello, world!'[0:5] = 'Hello'\n",
    "     \n",
    "   'Hello, world!'[:5] = 'Hello'\n",
    "    \n",
    "   'Hello, world!'[3:] = 'lo, world!'"
   ]
  },
  {
   "cell_type": "markdown",
   "id": "e9dbd452",
   "metadata": {},
   "source": [
    "Q7. What are the values of the following expressions?\n",
    "    'Hello'.upper()\n",
    "    'Hello'.upper().isupper()\n",
    "    'Hello'.upper().lower()\n",
    "    \n",
    " Ans 'Hello'.upper() = 'HELLO'\n",
    " \n",
    "   'Hello'.upper().isupper() = True\n",
    "   \n",
    "   'Hello'.upper().lower() =  'hello'\n"
   ]
  },
  {
   "cell_type": "markdown",
   "id": "020b8eff",
   "metadata": {},
   "source": [
    "Q8. What are the values of the following expressions?\n",
    "    'Remember, remember, the fifth of July.'.split()\n",
    "    '-'.join('There can only one.'.split())\n",
    "    \n",
    " Ans. 'Remember, remember, the fifth of July.'.split() = ['Remember,', 'remember,', 'the', 'fifth', 'of', 'July.']\n",
    "       \n",
    "   '-'.join('There can only one.'.split()) = 'There-can-only-one.'\n",
    "\n",
    "\n"
   ]
  },
  {
   "cell_type": "markdown",
   "id": "86519ac7",
   "metadata": {},
   "source": [
    "Q9. What are the methods for right-justifying, left-justifying, and centering a string?\n",
    "\n",
    "Ans. For Centering = print (\"The center aligned string is :\".center(32, \"-\"))\n",
    "\n",
    "   For Right-justifying = print (\"The center aligned string is :\".rjust(31, \"-\"))\n",
    "   \n",
    "   For Left-justifying = print (\"The center aligned string is :\".ljust(31, \"-\"))\n",
    "\n",
    "\n"
   ]
  },
  {
   "cell_type": "markdown",
   "id": "82a30252",
   "metadata": {},
   "source": [
    "Q10. What is the best way to remove whitespace characters from the start or end?\n",
    "\n",
    "Ans. Use the .strip() method to remove whitespace and characters from the beginning and the end of a string. Use the            .lstrip() method to remove whitespace and characters only from the beginning of a string. "
   ]
  },
  {
   "cell_type": "code",
   "execution_count": null,
   "id": "944781f6",
   "metadata": {},
   "outputs": [],
   "source": []
  },
  {
   "cell_type": "code",
   "execution_count": null,
   "id": "062f1797",
   "metadata": {},
   "outputs": [],
   "source": []
  },
  {
   "cell_type": "code",
   "execution_count": null,
   "id": "26c2abc1",
   "metadata": {},
   "outputs": [],
   "source": []
  },
  {
   "cell_type": "code",
   "execution_count": null,
   "id": "8e3a8e89",
   "metadata": {},
   "outputs": [],
   "source": []
  }
 ],
 "metadata": {
  "kernelspec": {
   "display_name": "Python 3 (ipykernel)",
   "language": "python",
   "name": "python3"
  },
  "language_info": {
   "codemirror_mode": {
    "name": "ipython",
    "version": 3
   },
   "file_extension": ".py",
   "mimetype": "text/x-python",
   "name": "python",
   "nbconvert_exporter": "python",
   "pygments_lexer": "ipython3",
   "version": "3.9.12"
  }
 },
 "nbformat": 4,
 "nbformat_minor": 5
}

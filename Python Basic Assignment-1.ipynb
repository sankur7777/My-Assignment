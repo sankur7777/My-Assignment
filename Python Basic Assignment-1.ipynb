{
 "cells": [
  {
   "cell_type": "markdown",
   "id": "01464c1b",
   "metadata": {},
   "source": [
    "Q1. In the below elements which of them are values or an expression? eg:- values can be integer or string and expressions will be mathematical operators.\n",
    "\n",
    "Ans.\n",
    "\n",
    "(*) :- Expression\n",
    "\n",
    "('hello') :- Values\n",
    "\n",
    "(-87.8) :- Values\n",
    "\n",
    "(-) :- Expression\n",
    "\n",
    "(/) :- Expression\n",
    "\n",
    "(+) :- Expression\n",
    "\n",
    "(6) :- Values\n"
   ]
  },
  {
   "cell_type": "markdown",
   "id": "b9779a86",
   "metadata": {},
   "source": [
    "Q2. What is the difference between string and variable?\n",
    "\n",
    "Ans. Variable :- A variable is basically the name of the location in the                    primary memory of your computer.A variable can store                        everything from strings to numbers. \n",
    "\n",
    "    String :- A string is a combination of characters which consists of                   letters, words, numbers etc. which is enclosed in double or                 single inverted commas. "
   ]
  },
  {
   "cell_type": "markdown",
   "id": "a7b52f8b",
   "metadata": {},
   "source": [
    "Q3. Describe three different data types.\n",
    "\n",
    "Ans. There are several types of data types. Three of them are as follows:\n",
    "    \n",
    "    1) Numeric data types.\n",
    "    \n",
    "       a) Integer :- Intergers are data types which contains positive or                        negative whole numbers without any fraction or                              decimal.\n",
    "       \n",
    "       b) Complex :- Complex data types are represented by complex class.\n",
    "                     It is specified as (real part) + (imaginary part)j.                        For example – 7+6j\n",
    "                     \n",
    "       c) Float :- These data types contains values in decimal.\n",
    "    \n",
    "    2) Boolean :- Data type with one of the two built-in values, True or                     False. Boolean objects that are equal to True are truthy                   (true), and those equal to False are falsy (false). It is                   denoted by the class bool.\n",
    "   \n",
    "    3) Tuple data type :- Tuple is an ordered collection of Python                                   objects. Tuples are immutable i.e.                                         tuples cannot be modified after it is created.                       "
   ]
  },
  {
   "cell_type": "markdown",
   "id": "77ee01fe",
   "metadata": {},
   "source": [
    "Q4. What is an expression made up of? What do all expressions do?\n",
    "\n",
    "Ans. Expressions are made up of mathematical operators. They are used to        perform mathematical operations."
   ]
  },
  {
   "cell_type": "markdown",
   "id": "20618506",
   "metadata": {},
   "source": [
    "Q5. This assignment statements, like spam = 10. What is the difference         between an expression and a statement?\n",
    "\n",
    "Ans. Expressions :- It only contain identifiers, literals and operators,                       where operators include arithmetic and boolean                             operators.\n",
    "     Statement :- Statements on the other hand, are everything that can                       make up a line (or several lines) of Python code."
   ]
  },
  {
   "cell_type": "markdown",
   "id": "c127cac2",
   "metadata": {},
   "source": [
    "Q6. After running the following code, what does the variable bacon contain?\n",
    "    bacon = 22\n",
    "    bacon + 1\n",
    "    \n",
    "Ans. bacon will contain 22. Because we not assigning the value of bacon+1        to any variable.  \n",
    "  \n"
   ]
  },
  {
   "cell_type": "markdown",
   "id": "f8d71e40",
   "metadata": {},
   "source": [
    "Q7. What should the values of the following two terms be?\n",
    "   'spam' + 'spamspam'\n",
    "   'spam' * 3\n",
    "   \n",
    "Ans. In both the condition it will give same output as 'spamspamspam'."
   ]
  },
  {
   "cell_type": "markdown",
   "id": "1db96c51",
   "metadata": {},
   "source": [
    "Q8. Why is eggs a valid variable name while 100 is invalid?\n",
    "\n",
    "Ans. Vairable name cannot start with a integer. But it can start with a\n",
    "     String thats why egg is a valid variable name while 100 is not."
   ]
  },
  {
   "cell_type": "markdown",
   "id": "f81251c4",
   "metadata": {},
   "source": [
    "Q9. What three functions can be used to get the integer, floating-point         number, or string version of a value?\n",
    "\n",
    "Ans. The int(), float() and string() functions will evaluate to the\n",
    "     integer, floating-point number and string versions of the value\n",
    "     passed to them respectively."
   ]
  },
  {
   "cell_type": "markdown",
   "id": "6604c9b2",
   "metadata": {},
   "source": [
    "Q10. Why does this expression cause an error? How can you fix it?\n",
    "     'I have eaten ' + 99 + ' burritos.'\n",
    "     \n",
    "Ans. This expression can cause error because we are trying to add string        with int which is not possible. We can fix it by just writing 99 in        double or single inverted commas. Eg - 'I have eaten ' + ,'99' + '          burritos.'\n"
   ]
  },
  {
   "cell_type": "code",
   "execution_count": null,
   "id": "4c9932d4",
   "metadata": {},
   "outputs": [],
   "source": []
  }
 ],
 "metadata": {
  "kernelspec": {
   "display_name": "Python 3",
   "language": "python",
   "name": "python3"
  },
  "language_info": {
   "codemirror_mode": {
    "name": "ipython",
    "version": 3
   },
   "file_extension": ".py",
   "mimetype": "text/x-python",
   "name": "python",
   "nbconvert_exporter": "python",
   "pygments_lexer": "ipython3",
   "version": "3.8.8"
  }
 },
 "nbformat": 4,
 "nbformat_minor": 5
}

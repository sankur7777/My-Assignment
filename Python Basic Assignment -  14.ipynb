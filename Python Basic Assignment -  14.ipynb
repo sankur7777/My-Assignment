{
 "cells": [
  {
   "cell_type": "markdown",
   "id": "5354fcc5",
   "metadata": {},
   "source": [
    "Q1. What does RGBA stand for?\n",
    "\n",
    "Ans. RGBA is a four-channel format containing data for Red, Green, Blue, and an Alpha value. Where Alpha Represents the Opacity."
   ]
  },
  {
   "cell_type": "markdown",
   "id": "972f4941",
   "metadata": {},
   "source": [
    "Q2. From the Pillow module, how do you get the RGBA value of any images?\n",
    "\n",
    "Ans. ImageColor.getcolor() gives rgba value of any image.\n"
   ]
  },
  {
   "cell_type": "markdown",
   "id": "7e62f4e1",
   "metadata": {},
   "source": [
    "Q3. What is a box tuple, and how does it work?\n",
    "\n",
    "Ans. A box tuple is a tuple value of four integers: the left-edge x-coordinate, the top-edge y-coordinate,the width, and the height, respectively."
   ]
  },
  {
   "cell_type": "markdown",
   "id": "aef2324a",
   "metadata": {},
   "source": [
    "Q4. Use your image and load in notebook then, How can you find out the width and height of an Image object?\n",
    "\n",
    "Ans. from PIL import Image\n",
    "pic = Image.open('Pic.jpg')\n",
    "print(f'Width, Height -> {pic.size}')"
   ]
  },
  {
   "cell_type": "markdown",
   "id": "7deaba63",
   "metadata": {},
   "source": [
    "Q5. What method would you call to get Image object for a 100×100 image, excluding the lower-left quarter of it?\n",
    "\n",
    "Ans. from PIL import Image\n",
    "     img = Image.open('Pic.jpg')\n",
    "     new_img = img.crop((0,50,50,50))"
   ]
  },
  {
   "cell_type": "markdown",
   "id": "0a8cb365",
   "metadata": {},
   "source": [
    "Q6. After making changes to an Image object, how could you save it as an image file?\n",
    "\n",
    "Ans. from PIL import Image\n",
    "     pic = Image.open('pic.jpg')\n",
    "     pic.save('pic2.jpg')"
   ]
  },
  {
   "cell_type": "markdown",
   "id": "afe38a3c",
   "metadata": {},
   "source": [
    "Q7. What module contains Pillow’s shape-drawing code?\n",
    "\n",
    "Ans. Pillows ImageDraw module contains Shape drawing methods.\n"
   ]
  },
  {
   "cell_type": "markdown",
   "id": "b80c5791",
   "metadata": {},
   "source": [
    "Q8. Image objects do not have drawing methods. What kind of object does? How do you get this kind of object?\n",
    "\n",
    "Ans. ImageDraw objects have shape-drawing methods such as point(), line(), or rectangle().They are returned by passing the Image object to the ImageDraw.Draw() function."
   ]
  },
  {
   "cell_type": "code",
   "execution_count": null,
   "id": "372d732a",
   "metadata": {},
   "outputs": [],
   "source": []
  }
 ],
 "metadata": {
  "kernelspec": {
   "display_name": "Python 3 (ipykernel)",
   "language": "python",
   "name": "python3"
  },
  "language_info": {
   "codemirror_mode": {
    "name": "ipython",
    "version": 3
   },
   "file_extension": ".py",
   "mimetype": "text/x-python",
   "name": "python",
   "nbconvert_exporter": "python",
   "pygments_lexer": "ipython3",
   "version": "3.9.12"
  }
 },
 "nbformat": 4,
 "nbformat_minor": 5
}

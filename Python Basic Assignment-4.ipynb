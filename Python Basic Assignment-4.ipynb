{
 "cells": [
  {
   "cell_type": "markdown",
   "id": "186da71b",
   "metadata": {},
   "source": [
    "Q1.What exactly is []?\n",
    "\n",
    "Ans. [] is square braces which is used to define list in python programming language. This consists of integer, float, string, etc and is seprated by commas(,)."
   ]
  },
  {
   "cell_type": "markdown",
   "id": "f6bf8dc8",
   "metadata": {},
   "source": [
    "Q2. In a list of values stored in a variable called spam, how would you assign the value 'hello' as the third value? (Assume [2, 4, 6, 8, 10] are in spam.)\n",
    "\n",
    "Ans. We can assign it by using a keyword append.\n",
    "     \n",
    "    For example:-\n",
    "    \n",
    "    spam.append('hello')"
   ]
  },
  {
   "cell_type": "markdown",
   "id": "57b7b2b4",
   "metadata": {},
   "source": [
    "Q3. What is the value of spam[int(int('3' * 2) / 11)]?\n",
    "\n",
    "Ans. 'd'\n"
   ]
  },
  {
   "cell_type": "markdown",
   "id": "4a3e7b48",
   "metadata": {},
   "source": [
    "Q4. What is the value of spam[-1]?\n",
    "\n",
    "Ans. 'd'\n"
   ]
  },
  {
   "cell_type": "markdown",
   "id": "bd887054",
   "metadata": {},
   "source": [
    "Q5. What is the value of spam[:2]?\n",
    "\n",
    "Ans. ['a', 'b']\n"
   ]
  },
  {
   "cell_type": "markdown",
   "id": "7367041e",
   "metadata": {},
   "source": [
    "Q6. What is the value of bacon.index('cat')?\n",
    "\n",
    "Ans. 1"
   ]
  },
  {
   "cell_type": "markdown",
   "id": "0535fd05",
   "metadata": {},
   "source": [
    "Q7. How does bacon.append(99) change the look of the list value in bacon?\n",
    "\n",
    "Ans. [3.14, 'cat', 11, 'cat', True, 99]\n",
    " "
   ]
  },
  {
   "cell_type": "markdown",
   "id": "b5fed136",
   "metadata": {},
   "source": [
    "Q8. How does bacon.remove('cat') change the look of the list in bacon?\n",
    "\n",
    "Ans. [3.14, 11, 'cat', True, 99]\n"
   ]
  },
  {
   "cell_type": "markdown",
   "id": "f11740b1",
   "metadata": {},
   "source": [
    "Q9. What are the list concatenation and list replication operators?\n",
    "\n",
    "Ans. The operator for list concatenation is +, while the operator for replication is *."
   ]
  },
  {
   "cell_type": "markdown",
   "id": "a90a11e4",
   "metadata": {},
   "source": [
    "Q10. What is difference between the list methods append() and insert()?\n",
    "\n",
    "Ans. The only difference between append() and insert() is that insert function allows us to add a specific element at a          specified index of the list unlike append() where we can add the element only at end of the list.\n"
   ]
  },
  {
   "cell_type": "markdown",
   "id": "76716a91",
   "metadata": {},
   "source": [
    "Q11. What are the two methods for removing items from a list?\n",
    "\n",
    "Ans. The two methods for removing items from a list are 'remove' and 'pop'."
   ]
  },
  {
   "cell_type": "markdown",
   "id": "bb554bfa",
   "metadata": {},
   "source": [
    "Q12. Describe how list values and string values are identical.\n",
    "\n",
    "Ans. The similarity between Lists and Strings in Python is that both are sequences.\n",
    "\n"
   ]
  },
  {
   "cell_type": "markdown",
   "id": "c041f1ff",
   "metadata": {},
   "source": [
    "Q13. What's the difference between tuples and lists?\n",
    "\n",
    "Ans. The difference between the tuples and lists is that the tuples are immutable objects while the lists are mutable. This      means that tuples cannot be changed while the lists can be modified. Tuples are more memory efficient than the              lists.\n"
   ]
  },
  {
   "cell_type": "markdown",
   "id": "e9434c36",
   "metadata": {},
   "source": [
    "Q14. How do you type a tuple value that only contains the integer 42?\n",
    "\n",
    "Ans. (42)"
   ]
  },
  {
   "cell_type": "markdown",
   "id": "885ec210",
   "metadata": {},
   "source": [
    "Q15. How do you get a list value's tuple form? How do you get a tuple value's list form?\n",
    "\n",
    "Ans. To convert a tuple into list we can call list() builtin function and pass the tuple as argument to the function.\n",
    "     To convert a list into tuple we can call tuple() builtin function and pass the list as argument to the function.\n",
    "\n",
    "\n"
   ]
  },
  {
   "cell_type": "markdown",
   "id": "f3b365d0",
   "metadata": {},
   "source": [
    "Q16. Variables that \"contain\" list values are not necessarily lists themselves. Instead, what do they contain?\n",
    "\n",
    "Ans. Variables that \"contain\" list values don't actually contain lists directly. They contain references to list values.\n"
   ]
  },
  {
   "cell_type": "markdown",
   "id": "9c79ee6a",
   "metadata": {},
   "source": [
    "Q17. How do you distinguish between copy.copy() and copy.deepcopy()?\n",
    "\n",
    "Ans. copy.copy() create reference to original object. If you change copied object - you change the original object. While        copy.deepcopy() creates new object and does real copying of original object to new one. Changing new deepcopied object      doesn't affect original object.\n",
    " "
   ]
  },
  {
   "cell_type": "code",
   "execution_count": null,
   "id": "b5693d88",
   "metadata": {},
   "outputs": [],
   "source": []
  }
 ],
 "metadata": {
  "kernelspec": {
   "display_name": "Python 3",
   "language": "python",
   "name": "python3"
  },
  "language_info": {
   "codemirror_mode": {
    "name": "ipython",
    "version": 3
   },
   "file_extension": ".py",
   "mimetype": "text/x-python",
   "name": "python",
   "nbconvert_exporter": "python",
   "pygments_lexer": "ipython3",
   "version": "3.8.8"
  }
 },
 "nbformat": 4,
 "nbformat_minor": 5
}

{
 "cells": [
  {
   "cell_type": "markdown",
   "id": "e884cf1a",
   "metadata": {},
   "source": [
    "Q1. Write a Python program to print \"Hello Python\"?"
   ]
  },
  {
   "cell_type": "code",
   "execution_count": 1,
   "id": "6979a068",
   "metadata": {},
   "outputs": [
    {
     "name": "stdout",
     "output_type": "stream",
     "text": [
      "Hello Python\n"
     ]
    }
   ],
   "source": [
    "#Ans 1.\n",
    "\n",
    "print('Hello Python')"
   ]
  },
  {
   "cell_type": "markdown",
   "id": "c3f290ef",
   "metadata": {},
   "source": [
    "Q2.Write a Python program to do arithmetical operations addition and division.?"
   ]
  },
  {
   "cell_type": "code",
   "execution_count": null,
   "id": "487a4fa1",
   "metadata": {},
   "outputs": [
    {
     "name": "stdout",
     "output_type": "stream",
     "text": [
      "Select a Arithmetic Operation:         \n",
      "1.Addition(+)        \n",
      "2.Division(-)        \n",
      "2.Multiplication(*)        \n",
      "4.Division(/)        \n",
      "3.Stop(0)\n",
      "\n"
     ]
    }
   ],
   "source": [
    "#Ans 2\n",
    "\n",
    "import operator\n",
    "\n",
    "ops = { \"+\": operator.add, \"-\": operator.sub, \"*\":operator.mul, \"/\":operator.truediv } \n",
    "\n",
    "print('Select a Arithmetic Operation: \\\n",
    "        \\n1.Addition(+)\\\n",
    "        \\n2.Division(-)\\\n",
    "        \\n2.Multiplication(*)\\\n",
    "        \\n4.Division(/)\\\n",
    "        \\n3.Stop(0)\\n')\n",
    "   \n",
    "\n",
    "while True:\n",
    "    operator = input('Enter a arithmetic operation -> ')\n",
    "    if operator == '0':\n",
    "        print(\"Program Stopped successfully\")\n",
    "        break\n",
    "    elif operator not in ['+','-','*','/']:\n",
    "        print(\"Please enter a valid operator\")\n",
    "    else:\n",
    "        num_1 = int(input('\\nEnter 1st Number: '))\n",
    "        num_2 = int(input('Enter 2nd Number: '))\n",
    "        print('{}{}{}={}\\n'.format(num_1, operator, num_2, ops[operator](num_1,num_2)))"
   ]
  },
  {
   "cell_type": "markdown",
   "id": "57710ebc",
   "metadata": {},
   "source": [
    "Q3.Write a Python program to find the area of a triangle?"
   ]
  },
  {
   "cell_type": "code",
   "execution_count": null,
   "id": "687e14d9",
   "metadata": {},
   "outputs": [],
   "source": [
    "#Ans 3.\n",
    "\n",
    "height = int(input(\"Enter the height of traingle\"))\n",
    "base = int(input(\"Enter the base of traingle\"))\n",
    "\n",
    "def area_of_traingle(height,base):\n",
    "    print(\"Area of traingle is =>>\", .5*base*height)\n",
    "    \n",
    "    \n",
    "area_of_traingle(height,base)\n",
    "    \n",
    "\n"
   ]
  },
  {
   "cell_type": "markdown",
   "id": "71b036dd",
   "metadata": {},
   "source": [
    "Q4.Write a Python program to swap two variables?"
   ]
  },
  {
   "cell_type": "code",
   "execution_count": null,
   "id": "ffcb2817",
   "metadata": {},
   "outputs": [],
   "source": [
    "#Ans.4\n",
    "\n",
    "num_1 = int(input(\"Enter First Number: \"))\n",
    "num_2 = int(input(\"Enter Second Number: \"))\n",
    "\n",
    "def swapNumbers(a,b):\n",
    "    temp = a\n",
    "    a = b\n",
    "    b = temp\n",
    "    return a,b\n",
    "\n",
    "print('Before swapping -> ',num_1, num_2)\n",
    "num_1, num_2 = swapNumbers(num_1, num_2)\n",
    "print('After swapping -> ',num_1,num_2)\n"
   ]
  },
  {
   "cell_type": "markdown",
   "id": "5f02afba",
   "metadata": {},
   "source": [
    "Q5.\tWrite a Python program to generate a random number?"
   ]
  },
  {
   "cell_type": "code",
   "execution_count": null,
   "id": "7d67b384",
   "metadata": {},
   "outputs": [],
   "source": [
    "from random import randint\n",
    "\n",
    "def generateRandomNumber(start=0, end=100000):\n",
    "    print('Random number -> ',randint(start,end))\n",
    "\n",
    "# Generating random numbers without arguments    \n",
    "generateRandomNumber()\n",
    "\n",
    "# Generating random numbers with arguments    \n",
    "generateRandomNumber(0,100)"
   ]
  },
  {
   "cell_type": "code",
   "execution_count": null,
   "id": "3139eb20",
   "metadata": {},
   "outputs": [],
   "source": []
  }
 ],
 "metadata": {
  "kernelspec": {
   "display_name": "Python 3 (ipykernel)",
   "language": "python",
   "name": "python3"
  },
  "language_info": {
   "codemirror_mode": {
    "name": "ipython",
    "version": 3
   },
   "file_extension": ".py",
   "mimetype": "text/x-python",
   "name": "python",
   "nbconvert_exporter": "python",
   "pygments_lexer": "ipython3",
   "version": "3.9.12"
  }
 },
 "nbformat": 4,
 "nbformat_minor": 5
}

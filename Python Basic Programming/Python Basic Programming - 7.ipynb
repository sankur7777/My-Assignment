{
 "cells": [
  {
   "cell_type": "markdown",
   "id": "227b911a",
   "metadata": {},
   "source": [
    "Q1.Write a Python Program to find sum of array?"
   ]
  },
  {
   "cell_type": "code",
   "execution_count": 6,
   "id": "2c266150",
   "metadata": {},
   "outputs": [
    {
     "name": "stdout",
     "output_type": "stream",
     "text": [
      "Enter the Array: 2,6,6,9,5,6\n",
      "The sum of (2, 6, 6, 9, 5, 6) is 34\n"
     ]
    }
   ],
   "source": [
    "#Ans1\n",
    "\n",
    "def sumOfArray():\n",
    "    in_arr = eval(input(\"Enter the Array: \"))\n",
    "    print(f'The sum of {in_arr} is {sum(in_arr)}')\n",
    "\n",
    "sumOfArray()\n"
   ]
  },
  {
   "cell_type": "markdown",
   "id": "d7b8c887",
   "metadata": {},
   "source": [
    "Q2.Write a Python Program to find largest element in an array?"
   ]
  },
  {
   "cell_type": "code",
   "execution_count": 8,
   "id": "1c5f19b6",
   "metadata": {},
   "outputs": [
    {
     "name": "stdout",
     "output_type": "stream",
     "text": [
      "Enter the Array: 5,3,6,8,6,9\n",
      "The Largest Element in (5, 3, 6, 8, 6, 9) is 9\n"
     ]
    }
   ],
   "source": [
    "#Ans2\n",
    "\n",
    "def largestElement():\n",
    "    in_arr = eval(input(\"Enter the Array: \"))\n",
    "    print(f\"The Largest Element in {in_arr} is {sorted(in_arr, reverse=True)[0]}\")\n",
    "    \n",
    "largestElement()"
   ]
  },
  {
   "cell_type": "markdown",
   "id": "4471eceb",
   "metadata": {},
   "source": [
    "Q3. Write a Python Program for array rotation?\n"
   ]
  },
  {
   "cell_type": "code",
   "execution_count": 9,
   "id": "0b49bc62",
   "metadata": {},
   "outputs": [
    {
     "name": "stdout",
     "output_type": "stream",
     "text": [
      "Enter an array: 5,3,6,7,8\n",
      "The reverse of (5, 3, 6, 7, 8) is (8, 7, 6, 3, 5) \n"
     ]
    }
   ],
   "source": [
    "#Ans3\n",
    "\n",
    "def ReverseofArray():\n",
    "    arry = eval(input(\"Enter an array: \"))\n",
    "    print(f\"The reverse of {arry} is {arry[::-1]} \")\n",
    "    \n",
    "ReverseofArray()\n",
    "    "
   ]
  },
  {
   "cell_type": "markdown",
   "id": "10a87ad7",
   "metadata": {},
   "source": [
    "Q4. Write a Python Program to Split the array and add the first part to the end ?\n"
   ]
  },
  {
   "cell_type": "code",
   "execution_count": 10,
   "id": "bd0e24fb",
   "metadata": {},
   "outputs": [
    {
     "name": "stdout",
     "output_type": "stream",
     "text": [
      "Enter the Array: 1,5,68,6,9\n",
      "The Sum of First and Last Elements of Array (1, 5, 68, 6, 9) is 10\n"
     ]
    }
   ],
   "source": [
    "#Ans 4\n",
    "\n",
    "def sumOfSplits():\n",
    "    in_arr = eval(input(\"Enter the Array: \"))\n",
    "    print(f\"The Sum of First and Last Elements of Array {in_arr} is {in_arr[0]+in_arr[-1]}\")\n",
    "    \n",
    "sumOfSplits()"
   ]
  },
  {
   "cell_type": "markdown",
   "id": "d445a941",
   "metadata": {},
   "source": [
    "Q5. Write a Python Program to check if given array is Monotonic ?\n"
   ]
  },
  {
   "cell_type": "code",
   "execution_count": null,
   "id": "a864e0a5",
   "metadata": {},
   "outputs": [
    {
     "name": "stdout",
     "output_type": "stream",
     "text": [
      "Enter the Array: 1,2,3,4,5,6\n",
      "Array (1, 2, 3, 4, 5, 6) is Monotonic\n"
     ]
    }
   ],
   "source": [
    "#Ans 5\n",
    "\n",
    "def checkMonotonic():\n",
    "    in_arr = eval(input(\"Enter the Array: \"))\n",
    "    if(all(in_arr[i]<=in_arr[i+1] for i in range(len(in_arr)-1)) or all(in_arr[i]>=in_arr[i+1] for i in range(len(in_arr)-1))):\n",
    "        print(f'Array {in_arr} is Monotonic')\n",
    "    else:\n",
    "        print(f'Array {in_arr} is Not Monotonic')\n",
    "\n",
    "checkMonotonic()\n",
    "checkMonotonic()"
   ]
  },
  {
   "cell_type": "code",
   "execution_count": null,
   "id": "aa977564",
   "metadata": {},
   "outputs": [],
   "source": []
  }
 ],
 "metadata": {
  "kernelspec": {
   "display_name": "Python 3 (ipykernel)",
   "language": "python",
   "name": "python3"
  },
  "language_info": {
   "codemirror_mode": {
    "name": "ipython",
    "version": 3
   },
   "file_extension": ".py",
   "mimetype": "text/x-python",
   "name": "python",
   "nbconvert_exporter": "python",
   "pygments_lexer": "ipython3",
   "version": "3.9.12"
  }
 },
 "nbformat": 4,
 "nbformat_minor": 5
}

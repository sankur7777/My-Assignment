{
 "cells": [
  {
   "cell_type": "markdown",
   "id": "d033810d",
   "metadata": {},
   "source": [
    "Q1.Write a Python program to convert kilometers to miles?"
   ]
  },
  {
   "cell_type": "code",
   "execution_count": 1,
   "id": "8641822a",
   "metadata": {},
   "outputs": [
    {
     "name": "stdout",
     "output_type": "stream",
     "text": [
      "Enter the kilometers: 25\n"
     ]
    },
    {
     "data": {
      "text/plain": [
       "'25.0 km is equals to  15.525 miles'"
      ]
     },
     "execution_count": 1,
     "metadata": {},
     "output_type": "execute_result"
    }
   ],
   "source": [
    "#Ans 1\n",
    "\n",
    "def km_to_miles():\n",
    "    kilomtrs = float(input(\"Enter the kilometers: \"))\n",
    "    kmtomiles = ('{} km is equals to  {} miles'.format(kilomtrs,kilomtrs*.621))\n",
    "    return kmtomiles\n",
    "    \n",
    "km_to_miles()"
   ]
  },
  {
   "cell_type": "markdown",
   "id": "c794a53f",
   "metadata": {},
   "source": [
    "Q2.Write a Python program to convert Celsius to Fahrenheit?"
   ]
  },
  {
   "cell_type": "code",
   "execution_count": 2,
   "id": "eb4edacd",
   "metadata": {},
   "outputs": [
    {
     "name": "stdout",
     "output_type": "stream",
     "text": [
      "Enter the celsius: 25\n",
      "25.0 celsius is equal to 77.0 Fahrenheit\n"
     ]
    }
   ],
   "source": [
    "#Ans2.\n",
    "\n",
    "def celsius_to_Fahrenheit():\n",
    "    celsius = float(input(\"Enter the celsius: \"))\n",
    "    print(\"{} celsius is equal to {} Fahrenheit\".format(celsius,celsius*(9/5)+32))\n",
    "    \n",
    "celsius_to_Fahrenheit()"
   ]
  },
  {
   "cell_type": "markdown",
   "id": "ef5107f2",
   "metadata": {},
   "source": [
    "Q3.Write a Python program to display calendar?"
   ]
  },
  {
   "cell_type": "code",
   "execution_count": null,
   "id": "3b6da348",
   "metadata": {},
   "outputs": [],
   "source": [
    "#Ans 3\n",
    "\n",
    "import calender\n",
    "\n",
    "def showcalender():\n",
    "    year = int(input(\"Enter the year of which you want to see calender: \"))\n",
    "    print(calendar.calendar(year))\n",
    "    \n",
    "showcalender()"
   ]
  },
  {
   "cell_type": "markdown",
   "id": "b8213517",
   "metadata": {},
   "source": [
    "Q4. Write a Python program to solve quadratic equation?"
   ]
  },
  {
   "cell_type": "code",
   "execution_count": null,
   "id": "2defe7f4",
   "metadata": {},
   "outputs": [],
   "source": [
    "#Ans 4\n",
    "\n",
    "import cmath\n",
    "import math\n",
    "\n",
    "def quadarticEquationRoots(a,b,c):\n",
    "    \n",
    "    discriminant = b*b-4*a*c\n",
    "    \n",
    "    if discriminant == 0:\n",
    "        r1 = -b/2*a\n",
    "        r2 = -b/2*a\n",
    "        print(\"Roots are Real\",r1,r2)\n",
    "    elif discriminant > 0:\n",
    "        r1 = (-b-math.sqrt(discriminant))/(2 * a)\n",
    "        r2 = (-b+math.sqrt(discriminant))/(2 * a)\n",
    "        print(\"Roots are Real and different\",r1,r2)\n",
    "    else:\n",
    "        r1 = (-b-cmath.sqrt(discriminant))/(2 * a)\n",
    "        r2 = (-b+cmath.sqrt(discriminant))/(2 * a)\n",
    "        print(\"Roots are Imaginary\",r1,r2)\n",
    "\n",
    "\n",
    "a = int(input('Enter a value: '))\n",
    "b = int(input('Enter b value: '))\n",
    "c = int(input('Enter c value: '))\n",
    "\n",
    "quadarticEquationRoots(a,b,c)"
   ]
  },
  {
   "cell_type": "markdown",
   "id": "de377e48",
   "metadata": {},
   "source": [
    "Q5.Write a Python program to swap two variables without temp variable?"
   ]
  },
  {
   "cell_type": "code",
   "execution_count": null,
   "id": "b9a0b0ae",
   "metadata": {},
   "outputs": [],
   "source": [
    "#Ans 5\n",
    "\n",
    "num1 = int(input(\"Enter 1st number\"))\n",
    "num2 = int(input(\"Enter 2nd number\"))\n",
    "\n",
    "def swap_variable(num1,num2):\n",
    "    print(\"Before swapping\", num1,num2)\n",
    "    num1 = num1+num2\n",
    "    num2 = num1-num2\n",
    "    num1 = num1-num2\n",
    "    print(\"After swaping\",num1,num2)\n",
    "    \n",
    "swap_varibale(num1,num2)"
   ]
  },
  {
   "cell_type": "code",
   "execution_count": null,
   "id": "e49746bd",
   "metadata": {},
   "outputs": [],
   "source": []
  }
 ],
 "metadata": {
  "kernelspec": {
   "display_name": "Python 3 (ipykernel)",
   "language": "python",
   "name": "python3"
  },
  "language_info": {
   "codemirror_mode": {
    "name": "ipython",
    "version": 3
   },
   "file_extension": ".py",
   "mimetype": "text/x-python",
   "name": "python",
   "nbconvert_exporter": "python",
   "pygments_lexer": "ipython3",
   "version": "3.9.12"
  }
 },
 "nbformat": 4,
 "nbformat_minor": 5
}
